{
 "cells": [
  {
   "cell_type": "code",
   "execution_count": 1,
   "id": "0637032e",
   "metadata": {},
   "outputs": [
    {
     "ename": "ImportError",
     "evalue": "DLL load failed while importing _arcgisscripting: The specified module could not be found.",
     "output_type": "error",
     "traceback": [
      "\u001b[1;31m---------------------------------------------------------------------------\u001b[0m",
      "\u001b[1;31mImportError\u001b[0m                               Traceback (most recent call last)",
      "\u001b[1;32m<ipython-input-1-c0af0f9f91f4>\u001b[0m in \u001b[0;36m<module>\u001b[1;34m\u001b[0m\n\u001b[0;32m      1\u001b[0m \u001b[1;32mimport\u001b[0m \u001b[0mos\u001b[0m\u001b[1;33m\u001b[0m\u001b[1;33m\u001b[0m\u001b[0m\n\u001b[1;32m----> 2\u001b[1;33m \u001b[1;32mimport\u001b[0m \u001b[0marcpy\u001b[0m\u001b[1;33m\u001b[0m\u001b[1;33m\u001b[0m\u001b[0m\n\u001b[0m\u001b[0;32m      3\u001b[0m \u001b[1;31m#import arcgis\u001b[0m\u001b[1;33m\u001b[0m\u001b[1;33m\u001b[0m\u001b[0m\n\u001b[0;32m      4\u001b[0m \u001b[1;32mimport\u001b[0m \u001b[0mnumpy\u001b[0m \u001b[1;32mas\u001b[0m \u001b[0mnp\u001b[0m\u001b[1;33m\u001b[0m\u001b[1;33m\u001b[0m\u001b[0m\n\u001b[0;32m      5\u001b[0m \u001b[1;32mimport\u001b[0m \u001b[0mtorch\u001b[0m\u001b[1;33m\u001b[0m\u001b[1;33m\u001b[0m\u001b[0m\n",
      "\u001b[1;32mC:\\Program Files\\ArcGIS\\Pro\\Resources\\ArcPy\\arcpy\\__init__.py\u001b[0m in \u001b[0;36m<module>\u001b[1;34m\u001b[0m\n\u001b[0;32m     75\u001b[0m     \u001b[1;32mimport\u001b[0m \u001b[0m_initagsenv\u001b[0m\u001b[1;33m\u001b[0m\u001b[1;33m\u001b[0m\u001b[0m\n\u001b[0;32m     76\u001b[0m \u001b[1;33m\u001b[0m\u001b[0m\n\u001b[1;32m---> 77\u001b[1;33m \u001b[1;32mfrom\u001b[0m \u001b[0marcpy\u001b[0m\u001b[1;33m.\u001b[0m\u001b[0mgeoprocessing\u001b[0m \u001b[1;32mimport\u001b[0m \u001b[0mgp\u001b[0m\u001b[1;33m\u001b[0m\u001b[1;33m\u001b[0m\u001b[0m\n\u001b[0m\u001b[0;32m     78\u001b[0m \u001b[1;32mfrom\u001b[0m \u001b[0marcpy\u001b[0m\u001b[1;33m.\u001b[0m\u001b[0mgeoprocessing\u001b[0m \u001b[1;32mimport\u001b[0m \u001b[0menv\u001b[0m\u001b[1;33m\u001b[0m\u001b[1;33m\u001b[0m\u001b[0m\n\u001b[0;32m     79\u001b[0m \u001b[1;32mfrom\u001b[0m \u001b[0marcpy\u001b[0m\u001b[1;33m.\u001b[0m\u001b[0mgeoprocessing\u001b[0m\u001b[1;33m.\u001b[0m\u001b[0m_base\u001b[0m \u001b[1;32mimport\u001b[0m \u001b[0mgptooldoc\u001b[0m \u001b[1;32mas\u001b[0m \u001b[0m_gptooldoc\u001b[0m\u001b[1;33m\u001b[0m\u001b[1;33m\u001b[0m\u001b[0m\n",
      "\u001b[1;32mC:\\Program Files\\ArcGIS\\Pro\\Resources\\ArcPy\\arcpy\\geoprocessing\\__init__.py\u001b[0m in \u001b[0;36m<module>\u001b[1;34m\u001b[0m\n\u001b[0;32m     12\u001b[0m \u001b[1;31m#\u001b[0m\u001b[1;33m\u001b[0m\u001b[1;33m\u001b[0m\u001b[0m\n\u001b[0;32m     13\u001b[0m \u001b[1;31m#email: contracts@esri.com\u001b[0m\u001b[1;33m\u001b[0m\u001b[1;33m\u001b[0m\u001b[0m\n\u001b[1;32m---> 14\u001b[1;33m \u001b[1;32mfrom\u001b[0m \u001b[1;33m.\u001b[0m\u001b[0m_base\u001b[0m \u001b[1;32mimport\u001b[0m \u001b[1;33m*\u001b[0m\u001b[1;33m\u001b[0m\u001b[1;33m\u001b[0m\u001b[0m\n\u001b[0m",
      "\u001b[1;32mC:\\Program Files\\ArcGIS\\Pro\\Resources\\ArcPy\\arcpy\\geoprocessing\\_base.py\u001b[0m in \u001b[0;36m<module>\u001b[1;34m\u001b[0m\n\u001b[0;32m     12\u001b[0m \u001b[1;31m#\u001b[0m\u001b[1;33m\u001b[0m\u001b[1;33m\u001b[0m\u001b[0m\n\u001b[0;32m     13\u001b[0m \u001b[1;31m#email: contracts@esri.com\u001b[0m\u001b[1;33m\u001b[0m\u001b[1;33m\u001b[0m\u001b[0m\n\u001b[1;32m---> 14\u001b[1;33m \u001b[1;32mimport\u001b[0m \u001b[0marcgisscripting\u001b[0m\u001b[1;33m\u001b[0m\u001b[1;33m\u001b[0m\u001b[0m\n\u001b[0m\u001b[0;32m     15\u001b[0m \u001b[1;32mimport\u001b[0m \u001b[0mfunctools\u001b[0m\u001b[1;33m\u001b[0m\u001b[1;33m\u001b[0m\u001b[0m\n\u001b[0;32m     16\u001b[0m \u001b[1;33m\u001b[0m\u001b[0m\n",
      "\u001b[1;32m~\\AppData\\Local\\ESRI\\conda\\envs\\arcgispro-py3-clone3\\lib\\site-packages\\arcgisscripting\\__init__.py\u001b[0m in \u001b[0;36m<module>\u001b[1;34m\u001b[0m\n\u001b[0;32m    129\u001b[0m \u001b[1;33m\u001b[0m\u001b[0m\n\u001b[0;32m    130\u001b[0m \u001b[1;33m\u001b[0m\u001b[0m\n\u001b[1;32m--> 131\u001b[1;33m \u001b[1;32mfrom\u001b[0m \u001b[1;33m.\u001b[0m\u001b[0m_arcgisscripting\u001b[0m \u001b[1;32mimport\u001b[0m \u001b[1;33m*\u001b[0m\u001b[1;33m\u001b[0m\u001b[1;33m\u001b[0m\u001b[0m\n\u001b[0m\u001b[0;32m    132\u001b[0m \u001b[1;32mfrom\u001b[0m \u001b[1;33m.\u001b[0m\u001b[0m_arcgisscripting\u001b[0m \u001b[1;32mimport\u001b[0m \u001b[0m_addTimeInterval\u001b[0m\u001b[1;33m,\u001b[0m \u001b[0m_analyzeForSD\u001b[0m\u001b[1;33m,\u001b[0m \u001b[0m_attachLocator\u001b[0m\u001b[1;33m,\u001b[0m\u001b[0;31m \u001b[0m\u001b[0;31m\\\u001b[0m\u001b[1;33m\u001b[0m\u001b[1;33m\u001b[0m\u001b[0m\n\u001b[0;32m    133\u001b[0m     \u001b[0m_convertWebMapToMapDocument\u001b[0m\u001b[1;33m,\u001b[0m \u001b[0m_createGISServerConnectionFile\u001b[0m\u001b[1;33m,\u001b[0m\u001b[0;31m \u001b[0m\u001b[0;31m\\\u001b[0m\u001b[1;33m\u001b[0m\u001b[1;33m\u001b[0m\u001b[0m\n",
      "\u001b[1;31mImportError\u001b[0m: DLL load failed while importing _arcgisscripting: The specified module could not be found."
     ]
    }
   ],
   "source": [
    "import os\n",
    "import arcpy\n",
    "#import arcgis\n",
    "import numpy as np\n",
    "import torch\n",
    "import pandas as pd\n",
    "from sklearn.preprocessing import MinMaxScaler, StandardScaler\n",
    "import matplotlib.pyplot as plt\n",
    "from datetime import datetime, timedelta\n",
    "import pylab as plt\n",
    "from numpy import load\n",
    "from itertools import combinations\n",
    "from numpy import save\n",
    "from dateutil import parser\n",
    "\n",
    "%matplotlib inline"
   ]
  },
  {
   "cell_type": "code",
   "execution_count": 2,
   "id": "017cb6f8",
   "metadata": {},
   "outputs": [
    {
     "ename": "NameError",
     "evalue": "name 'arcpy' is not defined",
     "output_type": "error",
     "traceback": [
      "\u001b[1;31m---------------------------------------------------------------------------\u001b[0m",
      "\u001b[1;31mNameError\u001b[0m                                 Traceback (most recent call last)",
      "\u001b[1;32m<ipython-input-2-65e443fd48fc>\u001b[0m in \u001b[0;36m<module>\u001b[1;34m\u001b[0m\n\u001b[0;32m      6\u001b[0m \u001b[0medgeLinksFC\u001b[0m\u001b[1;33m=\u001b[0m\u001b[0mos\u001b[0m\u001b[1;33m.\u001b[0m\u001b[0mpath\u001b[0m\u001b[1;33m.\u001b[0m\u001b[0mjoin\u001b[0m\u001b[1;33m(\u001b[0m\u001b[0mprjPath\u001b[0m\u001b[1;33m,\u001b[0m\u001b[1;34m'edgeLinks'\u001b[0m\u001b[1;33m)\u001b[0m\u001b[1;33m\u001b[0m\u001b[1;33m\u001b[0m\u001b[0m\n\u001b[0;32m      7\u001b[0m \u001b[0mcrashpoints\u001b[0m\u001b[1;33m=\u001b[0m\u001b[0mos\u001b[0m\u001b[1;33m.\u001b[0m\u001b[0mpath\u001b[0m\u001b[1;33m.\u001b[0m\u001b[0mjoin\u001b[0m\u001b[1;33m(\u001b[0m\u001b[0mprjPath\u001b[0m\u001b[1;33m,\u001b[0m\u001b[1;34m'crash_ingrid_join_lines'\u001b[0m\u001b[1;33m)\u001b[0m\u001b[1;33m\u001b[0m\u001b[1;33m\u001b[0m\u001b[0m\n\u001b[1;32m----> 8\u001b[1;33m \u001b[0marcpy\u001b[0m\u001b[1;33m.\u001b[0m\u001b[0menv\u001b[0m\u001b[1;33m.\u001b[0m\u001b[0mworkspace\u001b[0m\u001b[1;33m=\u001b[0m\u001b[0mprjPath\u001b[0m\u001b[1;33m\u001b[0m\u001b[1;33m\u001b[0m\u001b[0m\n\u001b[0m\u001b[0;32m      9\u001b[0m \u001b[0marcpy\u001b[0m\u001b[1;33m.\u001b[0m\u001b[0menv\u001b[0m\u001b[1;33m.\u001b[0m\u001b[0moverwriteOutput\u001b[0m\u001b[1;33m=\u001b[0m\u001b[1;32mTrue\u001b[0m\u001b[1;33m\u001b[0m\u001b[1;33m\u001b[0m\u001b[0m\n\u001b[0;32m     10\u001b[0m \u001b[1;33m\u001b[0m\u001b[0m\n",
      "\u001b[1;31mNameError\u001b[0m: name 'arcpy' is not defined"
     ]
    }
   ],
   "source": [
    "prjPath=r'C:\\projects\\ESRICrash\\roadData.gdb'\n",
    "roadEdges=os.path.join(prjPath,'road_arterial__FeatureToLine') #can also prjPath+'\\\\Crash_new'\n",
    "roadNodes =os.path.join(prjPath,'road_arterial_nodes')\n",
    "roadmidpts=os.path.join(prjPath,'road_arterial_midpt')\n",
    "roadSpatial=os.path.join(prjPath,'nodes_spatial_arterial')\n",
    "edgeLinksFC=os.path.join(prjPath,'edgeLinks')\n",
    "crashpoints=os.path.join(prjPath,'crash_ingrid_join_lines')\n",
    "arcpy.env.workspace=prjPath\n",
    "arcpy.env.overwriteOutput=True\n",
    "\n",
    "srcFld = \"src\"\n",
    "desFld = \"des\"\n",
    "#fieldScale = 0\n",
    "# Add src and des fields on the road edges\n",
    "#arcpy.AddField_management(roadEdges, srcFld, \"SHORT\")\n",
    "#arcpy.AddField_management(roadEdges, desFld, \"SHORT\")\n",
    "# Enter for loop for each feature"
   ]
  },
  {
   "cell_type": "markdown",
   "id": "42fa11b1",
   "metadata": {},
   "source": [
    "The following is to create all combinations of the edge index as node connections from src node to the des node.\n",
    "The edgeindex will be used to create graph adjacematrix. The node is actually a mid point of the road line"
   ]
  },
  {
   "cell_type": "code",
   "execution_count": 84,
   "id": "294e02b9",
   "metadata": {},
   "outputs": [
    {
     "name": "stdout",
     "output_type": "stream",
     "text": [
      "tensor([[  0,   0,   1,  ..., 240, 240, 241],\n",
      "        [  1,   2,   2,  ..., 241, 242, 242]], dtype=torch.int32)\n"
     ]
    }
   ],
   "source": [
    "edgeLinks =[]\n",
    "for m in range(166):\n",
    "    #delimitFld=arcpy.AddFieldDelimiters(roadNodes, \"OID\")\n",
    "    with arcpy.da.SearchCursor(\n",
    "        roadSpatial, \n",
    "        [\"OID@\",\"TARGET_FID\",\"JOIN_FID\"], \n",
    "        \"TARGET_FID=\"+str(m+1)\n",
    "    ) as cur:\n",
    "        nodeLinks=[] # these are the links that are shared the same intersection\n",
    "        for row in cur:\n",
    "            nodeLinks.append(row[2])\n",
    "            #print (row[2])\n",
    "        if len(nodeLinks)>1:\n",
    "            edgeLinks.append(nodeLinks)\n",
    "mapping = {i+1: e for i, e in enumerate(edgeLinks)}\n",
    "#print (mapping)\n",
    "edgeindexList=[]\n",
    "#edgeindexList =[combinations(c,2) for k,c in mapping.items()]\n",
    "    # edgeindexList.append(comb)\n",
    "for k,edgelink in mapping.items():\n",
    "    edgeindex =[c for c in combinations(edgelink, 2)]# use combination function to get possible links\n",
    "    edgeindexList.append(edgeindex)\n",
    "#print (edgeindexList)\n",
    "\n",
    "# Flatten the list\n",
    "flat_list = [item for sublist in edgeindexList for item in sublist]\n",
    "#print (flat_list)\n",
    "# Extract the first and second elements of each tuple and store them in separate lists\n",
    "\n",
    "srcrow = [x[0] for x in flat_list]\n",
    "desrow = [x[1] for x in flat_list]\n",
    "nodemapping={i+1:i for i in range(245)}\n",
    "src=[nodemapping[s] for s in srcrow ]\n",
    "des=[nodemapping[d] for d in desrow ]\n",
    "\n",
    "# Create a torch.Tensor with shape (2, 5) containing the flattened values\n",
    "edge_index = torch.tensor([src + des],dtype=torch.int32).view(2, -1)\n",
    "#edge_index = edge_index.int()\n",
    "# Print the result\n",
    "print(edge_index)\n",
    " # this map the node index to the node line. they are one minus number of the index"
   ]
  },
  {
   "cell_type": "code",
   "execution_count": 85,
   "id": "5211eca0",
   "metadata": {},
   "outputs": [],
   "source": [
    "from numpy import save\n",
    "save('trainingData/edgeindex.npy', edge_index)\n"
   ]
  },
  {
   "cell_type": "code",
   "execution_count": 86,
   "id": "185d5b09",
   "metadata": {},
   "outputs": [
    {
     "name": "stdout",
     "output_type": "stream",
     "text": [
      "[[  0   0   1 ... 240 240 241]\n",
      " [  1   2   2 ... 241 242 242]]\n"
     ]
    }
   ],
   "source": [
    "from numpy import load\n",
    "# load array\n",
    "edgeindex = load('trainingData/edgeindex.npy')\n",
    "print (edgeindex)"
   ]
  },
  {
   "cell_type": "markdown",
   "id": "79a2ee2b",
   "metadata": {},
   "source": [
    "The following part is to insert edgeLink in arcgis Pro using src and des index. This create all the links from road to the\n",
    "all connected road in the intersections."
   ]
  },
  {
   "cell_type": "code",
   "execution_count": null,
   "id": "fbf6580d",
   "metadata": {},
   "outputs": [],
   "source": [
    "#mid points fields to search\n",
    "fieldsmpt=[\"SHAPE@\", \"OID@\"]\n",
    "#edge links feature fields to insert polyline\n",
    "fields = [\"SHAPE@\", \"srcroad\", \"desroad\"]\n",
    "\n",
    "with arcpy.da.InsertCursor(edgeLinksFC,fields) as incursor:\n",
    "# get the each link src and des nodes\n",
    "#declare insert cursor\n",
    "    for sd in range(len(srcrow)):\n",
    "        srcnodeid=srcrow[sd]\n",
    "        desnodeid=desrow[sd]\n",
    "    # use an SQL query (\"OBJECTID=srcnodeid\" or \"OJBECTID=desnodeid\")\n",
    "        sql_query=\"OBJECTID=\"+str(srcnodeid)+\" or \"+\"OBJECTID=\"+str(desrow[sd])\n",
    "        rds = [list(row) for row in arcpy.da.SearchCursor(roadmidpts, fieldsmpt, sql_query)]\n",
    "        srcPtshp=rds[0][0].getPart()\n",
    "        desPtshp=rds[1][0].getPart()\n",
    "        # build array for line segment\n",
    "        arrayPts = arcpy.Array()\n",
    "        arrayPts.add(srcPtshp)\n",
    "        arrayPts.add(desPtshp)\n",
    "        # Create a Polyline object based on the array of points\n",
    "        polyline = arcpy.Polyline(arrayPts)\n",
    "        # Insert the feature\n",
    "        incursor.insertRow([polyline,srcnodeid,desnodeid])\n",
    "del incursor"
   ]
  },
  {
   "cell_type": "markdown",
   "id": "5e9a8eed",
   "metadata": {},
   "source": [
    "Let's look at how the road links (edge links) look."
   ]
  },
  {
   "cell_type": "code",
   "execution_count": 4,
   "id": "d9790ab0",
   "metadata": {},
   "outputs": [
    {
     "data": {
      "application/vnd.jupyter.widget-view+json": {
       "model_id": "4aa9549f85f34216914f233d640bfade",
       "version_major": 2,
       "version_minor": 0
      },
      "text/plain": [
       "MapView(layout=Layout(height='400px', width='100%'))"
      ]
     },
     "metadata": {},
     "output_type": "display_data"
    },
    {
     "data": {
      "text/html": [
       "<div class=\"map-static-img-preview-37683637-c984-4207-b66e-c5ebf2f31cb3\"><img src=\"\"></img></div>"
      ],
      "text/plain": [
       "<IPython.core.display.HTML object>"
      ]
     },
     "metadata": {},
     "output_type": "display_data"
    },
    {
     "data": {
      "text/html": [
       "<div class=\"map-html-embed-preview-37683637-c984-4207-b66e-c5ebf2f31cb3\"></div>"
      ],
      "text/plain": [
       "<IPython.core.display.HTML object>"
      ]
     },
     "metadata": {},
     "output_type": "display_data"
    }
   ],
   "source": [
    "from arcgis.gis import GIS\n",
    "#from arcgis.widgets import MapView\n",
    "gis = GIS()\n",
    "# load your feature class into a spatially enabled dataframe (sdf)\n",
    "m_sdf = pd.DataFrame.spatial.from_featureclass(edgeLinksFC)\n",
    "#m_map\n",
    "m_map = gis.map(location = 'Marietta, GA', zoomlevel = 10)\n",
    "m_sdf.spatial.plot(map_widget = m_map,\n",
    "                renderer_type='s',\n",
    "                cmap='Blues_r',  # use a different color map\n",
    "                symbol_type='simple'               \n",
    "                )\n",
    "m_map"
   ]
  },
  {
   "cell_type": "markdown",
   "id": "29a30931",
   "metadata": {},
   "source": [
    "load crash data"
   ]
  },
  {
   "cell_type": "code",
   "execution_count": 3,
   "id": "95297aab",
   "metadata": {},
   "outputs": [],
   "source": [
    "dfs=arcgis.features.GeoAccessor.from_featureclass(os.path.join(prjPath,crashpoints))\n",
    "dfs.to_csv('trainingData/roadcrash.csv')"
   ]
  },
  {
   "cell_type": "code",
   "execution_count": 4,
   "id": "1ff2ac79",
   "metadata": {},
   "outputs": [
    {
     "data": {
      "text/html": [
       "<div>\n",
       "<style scoped>\n",
       "    .dataframe tbody tr th:only-of-type {\n",
       "        vertical-align: middle;\n",
       "    }\n",
       "\n",
       "    .dataframe tbody tr th {\n",
       "        vertical-align: top;\n",
       "    }\n",
       "\n",
       "    .dataframe thead th {\n",
       "        text-align: right;\n",
       "    }\n",
       "</style>\n",
       "<table border=\"1\" class=\"dataframe\">\n",
       "  <thead>\n",
       "    <tr style=\"text-align: right;\">\n",
       "      <th></th>\n",
       "      <th>Unnamed: 0</th>\n",
       "      <th>OBJECTID</th>\n",
       "      <th>ACCIDENTDATE</th>\n",
       "      <th>WEATHER</th>\n",
       "      <th>curv</th>\n",
       "      <th>Avg_Slope</th>\n",
       "      <th>DOW</th>\n",
       "      <th>SUM_LENGTH</th>\n",
       "      <th>MAX_SPEED_LIMIT</th>\n",
       "      <th>FIRST_LANE_TYPE</th>\n",
       "      <th>nodeid</th>\n",
       "      <th>SHAPE</th>\n",
       "    </tr>\n",
       "  </thead>\n",
       "  <tbody>\n",
       "    <tr>\n",
       "      <th>0</th>\n",
       "      <td>0</td>\n",
       "      <td>1</td>\n",
       "      <td>2018-03-18 23:10:00.000001</td>\n",
       "      <td>3.0</td>\n",
       "      <td>1.141190</td>\n",
       "      <td>7.858093</td>\n",
       "      <td>NaN</td>\n",
       "      <td>17674.49719</td>\n",
       "      <td>45</td>\n",
       "      <td>1</td>\n",
       "      <td>78</td>\n",
       "      <td>{'x': 2200251.299880162, 'y': 1422066.99999782...</td>\n",
       "    </tr>\n",
       "    <tr>\n",
       "      <th>1</th>\n",
       "      <td>1</td>\n",
       "      <td>2</td>\n",
       "      <td>2018-03-18 21:56:00.000001</td>\n",
       "      <td>2.0</td>\n",
       "      <td>1.012250</td>\n",
       "      <td>9.580918</td>\n",
       "      <td>NaN</td>\n",
       "      <td>44164.68522</td>\n",
       "      <td>45</td>\n",
       "      <td>2</td>\n",
       "      <td>39</td>\n",
       "      <td>{'x': 2166057.800025828, 'y': 1405272.50012232...</td>\n",
       "    </tr>\n",
       "    <tr>\n",
       "      <th>2</th>\n",
       "      <td>2</td>\n",
       "      <td>3</td>\n",
       "      <td>2018-03-18 17:02:00.000000</td>\n",
       "      <td>1.0</td>\n",
       "      <td>1.021937</td>\n",
       "      <td>19.501251</td>\n",
       "      <td>NaN</td>\n",
       "      <td>45006.47942</td>\n",
       "      <td>65</td>\n",
       "      <td>2</td>\n",
       "      <td>13</td>\n",
       "      <td>{'x': 2197852.34962558, 'y': 1390927.089508742...</td>\n",
       "    </tr>\n",
       "    <tr>\n",
       "      <th>3</th>\n",
       "      <td>3</td>\n",
       "      <td>4</td>\n",
       "      <td>2018-03-18 17:27:00.000000</td>\n",
       "      <td>1.0</td>\n",
       "      <td>1.021937</td>\n",
       "      <td>19.501251</td>\n",
       "      <td>NaN</td>\n",
       "      <td>45006.47942</td>\n",
       "      <td>65</td>\n",
       "      <td>2</td>\n",
       "      <td>13</td>\n",
       "      <td>{'x': 2198188.9316295795, 'y': 1391296.8066170...</td>\n",
       "    </tr>\n",
       "    <tr>\n",
       "      <th>4</th>\n",
       "      <td>4</td>\n",
       "      <td>5</td>\n",
       "      <td>2018-03-18 14:30:00.000000</td>\n",
       "      <td>1.0</td>\n",
       "      <td>1.435386</td>\n",
       "      <td>23.058257</td>\n",
       "      <td>NaN</td>\n",
       "      <td>5106.35486</td>\n",
       "      <td>45</td>\n",
       "      <td>2</td>\n",
       "      <td>3</td>\n",
       "      <td>{'x': 2175332.971107997, 'y': 1374303.37472473...</td>\n",
       "    </tr>\n",
       "  </tbody>\n",
       "</table>\n",
       "</div>"
      ],
      "text/plain": [
       "   Unnamed: 0  OBJECTID                ACCIDENTDATE  WEATHER      curv  \\\n",
       "0           0         1  2018-03-18 23:10:00.000001      3.0  1.141190   \n",
       "1           1         2  2018-03-18 21:56:00.000001      2.0  1.012250   \n",
       "2           2         3  2018-03-18 17:02:00.000000      1.0  1.021937   \n",
       "3           3         4  2018-03-18 17:27:00.000000      1.0  1.021937   \n",
       "4           4         5  2018-03-18 14:30:00.000000      1.0  1.435386   \n",
       "\n",
       "   Avg_Slope  DOW   SUM_LENGTH  MAX_SPEED_LIMIT  FIRST_LANE_TYPE  nodeid  \\\n",
       "0   7.858093  NaN  17674.49719               45                1      78   \n",
       "1   9.580918  NaN  44164.68522               45                2      39   \n",
       "2  19.501251  NaN  45006.47942               65                2      13   \n",
       "3  19.501251  NaN  45006.47942               65                2      13   \n",
       "4  23.058257  NaN   5106.35486               45                2       3   \n",
       "\n",
       "                                               SHAPE  \n",
       "0  {'x': 2200251.299880162, 'y': 1422066.99999782...  \n",
       "1  {'x': 2166057.800025828, 'y': 1405272.50012232...  \n",
       "2  {'x': 2197852.34962558, 'y': 1390927.089508742...  \n",
       "3  {'x': 2198188.9316295795, 'y': 1391296.8066170...  \n",
       "4  {'x': 2175332.971107997, 'y': 1374303.37472473...  "
      ]
     },
     "execution_count": 4,
     "metadata": {},
     "output_type": "execute_result"
    }
   ],
   "source": [
    "df = pd.read_csv('trainingData/roadcrash.csv')\n",
    "df.head()"
   ]
  },
  {
   "cell_type": "code",
   "execution_count": 5,
   "id": "6242cd85",
   "metadata": {},
   "outputs": [
    {
     "data": {
      "text/plain": [
       "Unnamed: 0             0\n",
       "OBJECTID               0\n",
       "ACCIDENTDATE           0\n",
       "WEATHER             7896\n",
       "curv                 146\n",
       "Avg_Slope            146\n",
       "DOW                61269\n",
       "SUM_LENGTH             0\n",
       "MAX_SPEED_LIMIT        0\n",
       "FIRST_LANE_TYPE        0\n",
       "nodeid                 0\n",
       "SHAPE                  0\n",
       "dtype: int64"
      ]
     },
     "execution_count": 5,
     "metadata": {},
     "output_type": "execute_result"
    }
   ],
   "source": [
    "df.isnull().sum()"
   ]
  },
  {
   "cell_type": "code",
   "execution_count": 32,
   "id": "5555435a",
   "metadata": {},
   "outputs": [],
   "source": [
    "df=df.fillna(0)"
   ]
  },
  {
   "cell_type": "code",
   "execution_count": 6,
   "id": "10e310bc",
   "metadata": {},
   "outputs": [
    {
     "data": {
      "text/html": [
       "<div>\n",
       "<style scoped>\n",
       "    .dataframe tbody tr th:only-of-type {\n",
       "        vertical-align: middle;\n",
       "    }\n",
       "\n",
       "    .dataframe tbody tr th {\n",
       "        vertical-align: top;\n",
       "    }\n",
       "\n",
       "    .dataframe thead th {\n",
       "        text-align: right;\n",
       "    }\n",
       "</style>\n",
       "<table border=\"1\" class=\"dataframe\">\n",
       "  <thead>\n",
       "    <tr style=\"text-align: right;\">\n",
       "      <th></th>\n",
       "      <th>ACCIDENTDATE</th>\n",
       "      <th>DOW</th>\n",
       "      <th>nodeid</th>\n",
       "    </tr>\n",
       "  </thead>\n",
       "  <tbody>\n",
       "    <tr>\n",
       "      <th>0</th>\n",
       "      <td>2018-03-18 23:10:00.000001</td>\n",
       "      <td>NaN</td>\n",
       "      <td>78</td>\n",
       "    </tr>\n",
       "    <tr>\n",
       "      <th>1</th>\n",
       "      <td>2018-03-18 21:56:00.000001</td>\n",
       "      <td>NaN</td>\n",
       "      <td>39</td>\n",
       "    </tr>\n",
       "    <tr>\n",
       "      <th>2</th>\n",
       "      <td>2018-03-18 17:02:00.000000</td>\n",
       "      <td>NaN</td>\n",
       "      <td>13</td>\n",
       "    </tr>\n",
       "    <tr>\n",
       "      <th>3</th>\n",
       "      <td>2018-03-18 17:27:00.000000</td>\n",
       "      <td>NaN</td>\n",
       "      <td>13</td>\n",
       "    </tr>\n",
       "    <tr>\n",
       "      <th>4</th>\n",
       "      <td>2018-03-18 14:30:00.000000</td>\n",
       "      <td>NaN</td>\n",
       "      <td>3</td>\n",
       "    </tr>\n",
       "  </tbody>\n",
       "</table>\n",
       "</div>"
      ],
      "text/plain": [
       "                 ACCIDENTDATE  DOW  nodeid\n",
       "0  2018-03-18 23:10:00.000001  NaN      78\n",
       "1  2018-03-18 21:56:00.000001  NaN      39\n",
       "2  2018-03-18 17:02:00.000000  NaN      13\n",
       "3  2018-03-18 17:27:00.000000  NaN      13\n",
       "4  2018-03-18 14:30:00.000000  NaN       3"
      ]
     },
     "execution_count": 6,
     "metadata": {},
     "output_type": "execute_result"
    }
   ],
   "source": [
    "df = df.loc[:,[\"ACCIDENTDATE\",\"DOW\",\"nodeid\"]]\n",
    "df.head()"
   ]
  },
  {
   "cell_type": "code",
   "execution_count": 21,
   "id": "46eda673",
   "metadata": {},
   "outputs": [],
   "source": [
    "#add weekday of the crash\n",
    "def week_day(DOW):\n",
    "        if datetime.strptime(DOW[0:-7],'%Y-%m-%d %H:%M:%S').weekday() < 5:\n",
    "            return 1\n",
    "        else:\n",
    "            return 0"
   ]
  },
  {
   "cell_type": "code",
   "execution_count": 22,
   "id": "ed08374d",
   "metadata": {},
   "outputs": [],
   "source": [
    "df['DOW'] = df.apply(lambda x: week_day(x['ACCIDENTDATE']), axis=1)"
   ]
  },
  {
   "cell_type": "code",
   "execution_count": 26,
   "id": "6084418a",
   "metadata": {},
   "outputs": [],
   "source": [
    "#save to a .npy file so we don't need to run every time with notebook\n",
    "crashnpy=df.to_numpy()\n",
    "save('trainingData/crash.npy', crashnpy)"
   ]
  },
  {
   "cell_type": "code",
   "execution_count": 57,
   "id": "40d39c28",
   "metadata": {},
   "outputs": [
    {
     "name": "stdout",
     "output_type": "stream",
     "text": [
      "(61269, 3)\n",
      "['2018-03-18 23:10:00.000001' 0 78]\n"
     ]
    }
   ],
   "source": [
    "# load array\n",
    "crashdata = load('trainingData/crash.npy', allow_pickle=True)\n",
    "print (crashdata.shape)\n",
    "print (crashdata[0,:])"
   ]
  },
  {
   "cell_type": "markdown",
   "id": "49478e4a",
   "metadata": {},
   "source": [
    "Load node features, basically it is a road feature since we represent road midpoints as nodes"
   ]
  },
  {
   "cell_type": "code",
   "execution_count": 5,
   "id": "7de925a0",
   "metadata": {},
   "outputs": [],
   "source": [
    "#curvature\n",
    "curv=\\\n",
    "\"\"\"\n",
    "import math\n",
    "def curv(shp):\n",
    "  x1=shp.firstPoint.x\n",
    "  y1=shp.firstPoint.y\n",
    "  x2=shp.lastPoint.x\n",
    "  y2=shp.lastPoint.y\n",
    "  \n",
    "  eucliDistance=math.sqrt((x2-x1)**2+(y2-y1)**2)\n",
    "  l=shp.length\n",
    "  if eucliDistance>0:\n",
    "     return l/eucliDistance\n",
    "  return 1.0\n",
    "\"\"\""
   ]
  },
  {
   "cell_type": "code",
   "execution_count": 7,
   "id": "ba2bba94",
   "metadata": {},
   "outputs": [],
   "source": [
    "#add curvature field to the CobbRoads fc\n",
    "curvfld=[['curv','double']]\n",
    "_=arcpy.management.AddFields(roadEdges,curvfld)\n",
    "_=arcpy.management.CalculateField(roadEdges,'curv','curv(!Shape!)', code_block=curv)"
   ]
  },
  {
   "cell_type": "code",
   "execution_count": 28,
   "id": "13b2d9c4",
   "metadata": {},
   "outputs": [],
   "source": [
    "dfrds=arcgis.features.GeoAccessor.from_featureclass(os.path.join(prjPath,roadEdges))\n",
    "dfrds.to_csv('trainingData/roadedges.csv')"
   ]
  },
  {
   "cell_type": "code",
   "execution_count": 38,
   "id": "7606e738",
   "metadata": {},
   "outputs": [
    {
     "data": {
      "text/html": [
       "<div>\n",
       "<style scoped>\n",
       "    .dataframe tbody tr th:only-of-type {\n",
       "        vertical-align: middle;\n",
       "    }\n",
       "\n",
       "    .dataframe tbody tr th {\n",
       "        vertical-align: top;\n",
       "    }\n",
       "\n",
       "    .dataframe thead th {\n",
       "        text-align: right;\n",
       "    }\n",
       "</style>\n",
       "<table border=\"1\" class=\"dataframe\">\n",
       "  <thead>\n",
       "    <tr style=\"text-align: right;\">\n",
       "      <th></th>\n",
       "      <th>Unnamed: 0</th>\n",
       "      <th>OBJECTID</th>\n",
       "      <th>MAX_SPEED_LIMIT</th>\n",
       "      <th>FIRST_LANE_TYPE</th>\n",
       "      <th>src</th>\n",
       "      <th>des</th>\n",
       "      <th>nodeid</th>\n",
       "      <th>curv</th>\n",
       "      <th>length</th>\n",
       "      <th>SHAPE</th>\n",
       "    </tr>\n",
       "  </thead>\n",
       "  <tbody>\n",
       "    <tr>\n",
       "      <th>0</th>\n",
       "      <td>0</td>\n",
       "      <td>1</td>\n",
       "      <td>60</td>\n",
       "      <td>2</td>\n",
       "      <td>1</td>\n",
       "      <td>2</td>\n",
       "      <td>1</td>\n",
       "      <td>1.003295</td>\n",
       "      <td>8037.337567</td>\n",
       "      <td>{'hasM': True, 'paths': [[[2184682.8000066876,...</td>\n",
       "    </tr>\n",
       "    <tr>\n",
       "      <th>1</th>\n",
       "      <td>1</td>\n",
       "      <td>2</td>\n",
       "      <td>60</td>\n",
       "      <td>2</td>\n",
       "      <td>2</td>\n",
       "      <td>3</td>\n",
       "      <td>2</td>\n",
       "      <td>1.000010</td>\n",
       "      <td>12765.986345</td>\n",
       "      <td>{'hasM': True, 'paths': [[[2176914.499967452, ...</td>\n",
       "    </tr>\n",
       "    <tr>\n",
       "      <th>2</th>\n",
       "      <td>2</td>\n",
       "      <td>3</td>\n",
       "      <td>45</td>\n",
       "      <td>2</td>\n",
       "      <td>2</td>\n",
       "      <td>4</td>\n",
       "      <td>3</td>\n",
       "      <td>1.066625</td>\n",
       "      <td>5106.354857</td>\n",
       "      <td>{'hasM': True, 'paths': [[[2176914.499967452, ...</td>\n",
       "    </tr>\n",
       "    <tr>\n",
       "      <th>3</th>\n",
       "      <td>3</td>\n",
       "      <td>4</td>\n",
       "      <td>45</td>\n",
       "      <td>1</td>\n",
       "      <td>7</td>\n",
       "      <td>5</td>\n",
       "      <td>4</td>\n",
       "      <td>1.028404</td>\n",
       "      <td>12522.000415</td>\n",
       "      <td>{'hasM': True, 'paths': [[[2174871.799933549, ...</td>\n",
       "    </tr>\n",
       "    <tr>\n",
       "      <th>4</th>\n",
       "      <td>4</td>\n",
       "      <td>5</td>\n",
       "      <td>40</td>\n",
       "      <td>1</td>\n",
       "      <td>6</td>\n",
       "      <td>5</td>\n",
       "      <td>5</td>\n",
       "      <td>1.019563</td>\n",
       "      <td>9874.799060</td>\n",
       "      <td>{'hasM': True, 'paths': [[[2191080.799884647, ...</td>\n",
       "    </tr>\n",
       "  </tbody>\n",
       "</table>\n",
       "</div>"
      ],
      "text/plain": [
       "   Unnamed: 0  OBJECTID  MAX_SPEED_LIMIT  FIRST_LANE_TYPE  src  des  nodeid  \\\n",
       "0           0         1               60                2    1    2       1   \n",
       "1           1         2               60                2    2    3       2   \n",
       "2           2         3               45                2    2    4       3   \n",
       "3           3         4               45                1    7    5       4   \n",
       "4           4         5               40                1    6    5       5   \n",
       "\n",
       "       curv        length                                              SHAPE  \n",
       "0  1.003295   8037.337567  {'hasM': True, 'paths': [[[2184682.8000066876,...  \n",
       "1  1.000010  12765.986345  {'hasM': True, 'paths': [[[2176914.499967452, ...  \n",
       "2  1.066625   5106.354857  {'hasM': True, 'paths': [[[2176914.499967452, ...  \n",
       "3  1.028404  12522.000415  {'hasM': True, 'paths': [[[2174871.799933549, ...  \n",
       "4  1.019563   9874.799060  {'hasM': True, 'paths': [[[2191080.799884647, ...  "
      ]
     },
     "execution_count": 38,
     "metadata": {},
     "output_type": "execute_result"
    }
   ],
   "source": [
    "dfre = pd.read_csv('trainingData/roadedges.csv')\n",
    "dfre.head()"
   ]
  },
  {
   "cell_type": "code",
   "execution_count": 30,
   "id": "9afbef9b",
   "metadata": {},
   "outputs": [],
   "source": [
    "#drop these fields\n",
    "dfre=dfre.drop(columns=['src','des','nodeid'])"
   ]
  },
  {
   "cell_type": "code",
   "execution_count": 32,
   "id": "e8f221c4",
   "metadata": {},
   "outputs": [],
   "source": [
    "#these fields need to be scaled using scikit-learn's minmaxScaler\n",
    "scale_fld=['MAX_SPEED_LIMIT','FIRST_LANE_TYPE','curv','length']\n",
    "scaler = MinMaxScaler()\n",
    "scale_values = dfre.loc[:,scale_fld]\n",
    "scale_values = scaler.fit_transform(scale_values)\n",
    "dfre.loc[:,scale_fld]=scale_values"
   ]
  },
  {
   "cell_type": "code",
   "execution_count": 33,
   "id": "27a60028",
   "metadata": {},
   "outputs": [
    {
     "name": "stdout",
     "output_type": "stream",
     "text": [
      "[[0.8333333333333333 1.0 0.007756406427215978 0.32105720730318105]\n",
      " [0.8333333333333333 1.0 0.0 0.5110078216472885]\n",
      " [0.33333333333333326 1.0 0.15729063345091676 0.20331914034318951]\n",
      " [0.33333333333333326 0.0 0.06704299737279173 0.5012068659083802]\n",
      " [0.16666666666666652 0.0 0.04616844407662413 0.39486834356477685]\n",
      " [0.16666666666666652 0.0 0.19402324701525586 0.37806874380811617]\n",
      " [0.33333333333333326 0.0 0.07144567197626195 0.24572029735997974]\n",
      " [0.33333333333333326 1.0 0.02968685224842238 0.22454698850539415]\n",
      " [0.33333333333333326 0.0 0.06525038147180107 0.27419100759254733]\n",
      " [0.33333333333333326 0.0 0.11759042281822962 0.8455345802511769]\n",
      " [0.33333333333333326 0.0 0.08017603141167262 0.5239354284649587]\n",
      " [0.16666666666666652 0.0 0.03169040380681576 0.09793451438474156]\n",
      " [0.9999999999999998 1.0 0.37098084986798296 0.3833953392521733]\n",
      " [0.6666666666666665 0.0 0.0023957419867963736 0.20868074969389747]\n",
      " [0.16666666666666652 0.0 0.05844462447564247 0.47906766113912397]\n",
      " [0.33333333333333326 1.0 0.00012388474766211743 0.04130083692430175]\n",
      " [0.6666666666666665 0.0 0.059727071599830595 0.06305859949571635]\n",
      " [0.33333333333333326 1.0 0.03089390471464748 0.25501132882845173]\n",
      " [0.33333333333333326 0.0 0.05504158517898006 0.4601428379462108]\n",
      " [0.16666666666666652 0.0 0.12121395266600166 0.5104876382737816]\n",
      " [0.33333333333333326 0.0 0.04824630211760228 0.6019408922327028]\n",
      " [0.6666666666666665 0.0 0.1084925941540682 0.2515610313404721]\n",
      " [0.9999999999999998 1.0 0.10260363789178362 0.27347477465691505]\n",
      " [0.33333333333333326 1.0 0.2850259759822671 0.7856353388397526]\n",
      " [0.9999999999999998 1.0 0.011113227059452502 0.08375518170252247]\n",
      " [0.33333333333333326 1.0 0.14517201127763668 0.12377101613817978]\n",
      " [0.33333333333333326 0.0 0.04564493687650595 0.10974444972754127]\n",
      " [0.33333333333333326 1.0 0.02715725683962411 0.09167134847491516]\n",
      " [0.33333333333333326 0.0 0.09991611661434785 0.31839652514886946]\n",
      " [0.6666666666666665 0.0 0.09493597112830265 0.8853792995963937]\n",
      " [0.33333333333333326 1.0 0.058952950120512604 0.32902450971703906]\n",
      " [0.33333333333333326 1.0 0.04351885126136157 0.1613218382449244]\n",
      " [0.33333333333333326 1.0 0.10230384279352878 0.4203565131121284]\n",
      " [0.33333333333333326 0.0 0.3076646443904236 0.48167791336736265]\n",
      " [0.33333333333333326 0.0 0.1660305868863614 0.2039893759042188]\n",
      " [0.9999999999999998 1.0 2.440148051263691e-05 0.2397995680996648]\n",
      " [0.33333333333333326 0.0 0.03738251345920229 0.23097339483987067]\n",
      " [0.0 0.0 0.4611383887891072 0.18915215869229687]\n",
      " [0.33333333333333326 1.0 0.004609528455645773 0.1786488435254173]\n",
      " [0.16666666666666652 0.0 0.07530280812565149 0.13278185460715522]\n",
      " [0.6666666666666665 0.0 0.10979160063384041 0.2833343087840227]\n",
      " [0.0 0.0 0.07494900136063531 0.1678099842420468]\n",
      " [0.33333333333333326 0.0 0.19333244568199914 0.5915306094636958]\n",
      " [0.33333333333333326 1.0 0.19538999299838178 0.4234125156769758]\n",
      " [0.33333333333333326 1.0 0.08696261673075867 0.2750097118819457]\n",
      " [0.6666666666666665 0.0 0.004659140487298874 0.5705173215209906]\n",
      " [0.33333333333333326 1.0 0.34374386263309553 0.537956954118647]\n",
      " [0.16666666666666652 0.0 0.015569763301846784 0.45003447873160796]\n",
      " [0.33333333333333326 0.0 0.0851851397797061 0.34693778129316416]\n",
      " [0.16666666666666652 0.0 0.2208822641270296 0.2584222444390478]\n",
      " [0.6666666666666665 0.0 0.20257074258986174 0.3939423440587633]\n",
      " [0.9999999999999998 1.0 0.01749404659659115 0.31476108023004085]\n",
      " [0.0 0.0 0.08914476289253948 0.523663941030646]\n",
      " [0.6666666666666665 0.0 0.001363311581682236 0.03333507930197067]\n",
      " [0.9999999999999998 1.0 0.002170335286690861 0.13730366999022411]\n",
      " [0.9999999999999998 1.0 0.0018158751529795403 0.2544264959516636]\n",
      " [0.33333333333333326 0.0 0.03642611588530098 0.22958878927309956]\n",
      " [0.6666666666666665 0.0 0.0021474415886730824 0.31438961946609706]\n",
      " [0.33333333333333326 0.0 0.0016320148719390914 0.21881646191895573]\n",
      " [0.33333333333333326 0.0 0.0014605203659714405 0.45783574374515945]\n",
      " [0.33333333333333326 1.0 0.08077678339555838 0.5230132433026619]\n",
      " [0.33333333333333326 0.0 0.09553265516397591 0.4386586849711619]\n",
      " [0.0 0.0 1.0 0.3141770916386925]\n",
      " [0.33333333333333326 0.0 0.05497498751736396 0.028365076987905916]\n",
      " [0.9999999999999998 1.0 0.02233318621642777 0.22979778570519177]\n",
      " [0.33333333333333326 0.0 0.07039009594960222 0.12560358597376536]\n",
      " [0.6666666666666665 0.0 0.006339807589556212 0.3076813913408075]\n",
      " [0.33333333333333326 0.0 0.04881078590113308 0.5880015057007341]\n",
      " [0.6666666666666665 1.0 0.08460261658896417 0.5606831199501959]\n",
      " [0.33333333333333326 0.0 0.026839492713651047 0.6463461142734362]\n",
      " [0.33333333333333326 0.0 0.22218623684177796 0.15702990757052693]\n",
      " [0.9999999999999998 1.0 0.02672835354381986 0.3628002778611087]\n",
      " [0.6666666666666665 1.0 0.009974337865413574 0.650136358952086]\n",
      " [0.6666666666666665 0.0 0.014928087246928623 0.04030398976997154]\n",
      " [0.6666666666666665 1.0 0.26544670697400363 0.40801636055191526]\n",
      " [0.33333333333333326 0.0 0.0719567934888774 0.9233041871683065]\n",
      " [0.6666666666666665 1.0 0.015515508682974577 0.3053663117463952]\n",
      " [0.33333333333333326 0.0 0.16452836837232798 0.17198096977796454]\n",
      " [0.9999999999999998 1.0 0.00235473119970786 0.1591318967119229]\n",
      " [0.33333333333333326 0.0 0.1796977466657732 0.18139601769244965]\n",
      " [0.33333333333333326 0.0 0.025457269661268267 0.18148599733485676]\n",
      " [0.33333333333333326 1.0 0.023536703271459736 0.47922296423169414]\n",
      " [0.6666666666666665 0.0 0.009082791292617465 0.3782500953943543]\n",
      " [0.6666666666666665 0.0 0.0009577921251193722 0.31743212860539965]\n",
      " [0.9999999999999998 1.0 0.0007682069829200167 0.17635251715213374]\n",
      " [0.6666666666666665 1.0 0.006548313697308572 0.24181746430491227]\n",
      " [0.9999999999999998 1.0 0.057115883140264945 0.3596835823996504]\n",
      " [0.33333333333333326 0.0 0.015872811184700186 0.09055438972913557]\n",
      " [0.6666666666666665 1.0 0.043319550698558196 0.20384793208439184]\n",
      " [0.33333333333333326 1.0 0.13818007596386028 0.7195267855713999]\n",
      " [0.6666666666666665 0.0 0.46973627766181547 0.31666650160167426]\n",
      " [0.33333333333333326 0.0 0.17098352760507796 0.6976285285968842]\n",
      " [0.6666666666666665 0.0 0.28812720409520987 0.43388344968955067]\n",
      " [0.6666666666666665 0.0 0.07363831751194505 0.10054293381127619]\n",
      " [0.6666666666666665 1.0 0.23810247618604974 0.1502598794065148]\n",
      " [0.33333333333333326 0.0 0.09490294205854655 0.6948307351858607]\n",
      " [0.6666666666666665 0.0 0.00020847177950811258 0.3052479436288404]\n",
      " [0.33333333333333326 0.0 0.18402771133561258 0.403215832677456]\n",
      " [0.0 0.0 0.28761701643820015 0.12426416214173056]\n",
      " [0.6666666666666665 1.0 0.11350947299376246 0.24828587779308922]\n",
      " [0.6666666666666665 1.0 0.1687639565169814 0.10022642887225666]\n",
      " [0.33333333333333326 0.0 0.06433873557789749 0.49352992683698504]\n",
      " [0.6666666666666665 1.0 0.002891686099155688 0.22973939115089687]\n",
      " [0.33333333333333326 0.0 0.17485200683438062 0.05828922398346552]\n",
      " [0.6666666666666665 1.0 0.0032804738549296886 0.020997812777416285]\n",
      " [0.33333333333333326 0.0 0.02227905228022431 0.19771292510045835]\n",
      " [0.33333333333333326 0.0 0.05928616771677664 0.6711986031450594]\n",
      " [0.6666666666666665 1.0 0.2764514021752067 0.19293279318245737]\n",
      " [0.0 0.0 0.008109347971192005 0.10300244921135221]\n",
      " [0.9999999999999998 1.0 0.0709608267770685 0.20764104916135204]\n",
      " [0.6666666666666665 0.0 1.699386952758175e-05 0.14688992766799286]\n",
      " [0.33333333333333326 1.0 6.109881451532573e-05 0.052231055305562886]\n",
      " [0.33333333333333326 1.0 0.003894321049922933 0.18508805008252396]\n",
      " [0.6666666666666665 1.0 0.021021683425005655 0.08964797228297836]\n",
      " [0.33333333333333326 0.0 0.13050725380072725 0.4530377741248798]\n",
      " [0.33333333333333326 1.0 0.0578302461452882 0.11386315240125665]\n",
      " [0.33333333333333326 0.0 0.01662330688884106 0.11336475251629306]\n",
      " [0.6666666666666665 1.0 0.020032377270308377 0.0749928721155575]\n",
      " [0.33333333333333326 0.0 0.0031465853497611995 0.021333253965866567]\n",
      " [0.33333333333333326 0.0 0.028798443113657868 0.06819415017134152]\n",
      " [0.33333333333333326 1.0 0.06396302761267858 0.16454727199620217]\n",
      " [0.0 0.0 0.007189884334603214 0.01195612989658977]\n",
      " [0.6666666666666665 1.0 0.017805547501234642 0.3740406858959824]\n",
      " [0.6666666666666665 1.0 0.03077376045606428 0.6415937424991432]\n",
      " [0.6666666666666665 1.0 0.1781382046855602 0.0988566613351389]\n",
      " [0.0 0.0 0.004989207584586985 0.08885238377577707]\n",
      " [0.6666666666666665 1.0 0.02995643970531292 0.27525197307207927]\n",
      " [0.6666666666666665 0.0 0.025207963820123247 0.16141159763689894]\n",
      " [0.33333333333333326 0.0 0.08909172981969915 0.16873035308988538]\n",
      " [0.33333333333333326 1.0 0.13017306147053276 0.2933410482425932]\n",
      " [0.33333333333333326 0.0 0.08889598314028735 0.6900324088086136]\n",
      " [0.33333333333333326 1.0 0.17358841622819243 0.38693935938692625]\n",
      " [0.6666666666666665 0.0 0.002442094660044525 0.15140962293015464]\n",
      " [0.16666666666666652 0.0 0.12504083850502123 0.5720781298648115]\n",
      " [0.33333333333333326 0.0 0.03357733551408426 0.10321429650110615]\n",
      " [0.33333333333333326 0.0 0.13548294531128935 0.47506642478826017]\n",
      " [0.33333333333333326 0.0 0.16034177009253003 0.5821029028889798]\n",
      " [0.16666666666666652 0.0 0.10449460611651329 0.10503234693065194]\n",
      " [0.9999999999999998 1.0 0.08742081297239146 0.377071653611349]\n",
      " [0.0 0.0 0.00801020876151659 0.2089272648830345]\n",
      " [0.33333333333333326 1.0 0.09106273321670333 0.4838338710902919]\n",
      " [0.33333333333333326 1.0 0.3296377247780429 0.6812237783674844]\n",
      " [0.33333333333333326 1.0 0.035423229757330255 0.23625563160473248]\n",
      " [0.0 0.0 0.100680545280452 0.49541009054936497]\n",
      " [0.33333333333333326 0.0 0.17913214004686617 0.16348652363245]\n",
      " [0.6666666666666665 0.0 0.030806644395650284 0.33496597373105846]\n",
      " [0.33333333333333326 1.0 0.13078201967948289 0.44186035272015534]\n",
      " [0.33333333333333326 1.0 0.2783893127151087 0.347512137854946]\n",
      " [0.9999999999999998 1.0 4.464146529148394e-05 0.22184470959596295]\n",
      " [0.16666666666666652 0.0 0.13142901057277045 0.2935517277681951]\n",
      " [0.33333333333333326 0.0 0.013827884663346168 0.16987701115195145]\n",
      " [0.9999999999999998 1.0 0.02225928797798815 0.143781850920046]\n",
      " [0.33333333333333326 0.0 0.172250256442116 0.6069533096983039]\n",
      " [0.33333333333333326 1.0 0.11598094317801166 0.5034468534568003]\n",
      " [0.33333333333333326 1.0 0.32594472760281246 0.1911631411986087]\n",
      " [0.33333333333333326 1.0 0.23712020464260863 0.27769058431335897]\n",
      " [0.6666666666666665 1.0 0.13113834210469832 0.2643680332128878]\n",
      " [0.33333333333333326 0.0 0.3211931266981254 0.44890954771696684]\n",
      " [0.33333333333333326 1.0 0.13309400313180975 0.1480854378053008]\n",
      " [0.6666666666666665 0.0 0.019502042813173137 0.4361814914328721]\n",
      " [0.33333333333333326 1.0 0.07800199391431528 0.35098083175192696]\n",
      " [0.9999999999999998 1.0 0.04078483483162598 0.18412762160449006]\n",
      " [0.33333333333333326 0.0 0.1595921219021652 1.0]\n",
      " [0.33333333333333326 0.0 0.035112681491285436 0.15138059561522907]\n",
      " [0.6666666666666665 0.0 0.01577247290280459 0.1705226641920899]\n",
      " [0.0 0.0 0.04049630371584323 0.38734507995539286]\n",
      " [0.33333333333333326 1.0 0.0002290659647292692 0.14898614386032386]\n",
      " [0.33333333333333326 1.0 3.96261485891003e-06 0.1357308993873161]\n",
      " [0.9999999999999998 1.0 0.000505140208599375 0.16253611968609194]\n",
      " [0.0 0.0 0.028135777680235563 0.1223692735032702]\n",
      " [0.16666666666666652 0.0 0.08315825415362177 0.28546948524523463]\n",
      " [0.33333333333333326 1.0 0.01880477227307864 0.2905687144864336]\n",
      " [0.33333333333333326 0.0 0.013867028951516147 0.18238738551627182]\n",
      " [0.33333333333333326 0.0 0.1370233247925654 0.35157043271409344]\n",
      " [0.33333333333333326 1.0 0.007759352209983916 0.12484114363674914]\n",
      " [0.6666666666666665 0.0 0.0030205289675135916 0.21401378928017292]\n",
      " [0.33333333333333326 1.0 0.08330557528082405 0.1330130443448645]\n",
      " [0.33333333333333326 0.0 0.06731162556724835 0.38380070302971064]\n",
      " [0.6666666666666665 0.0 0.0061866744780298966 0.24992852686821757]\n",
      " [0.33333333333333326 1.0 0.005365962347850584 0.08533068598751126]\n",
      " [0.16666666666666652 0.0 0.14026791593865173 0.2620405064120335]\n",
      " [0.33333333333333326 1.0 0.1862734993801669 0.27902965955895304]\n",
      " [0.33333333333333326 1.0 0.11377559332405607 0.42588975141965424]\n",
      " [0.6666666666666665 0.0 0.02157187879665079 0.15788943252000573]\n",
      " [0.6666666666666665 0.0 0.07941271383769744 0.11327782840878876]\n",
      " [0.33333333333333326 0.0 0.02011696483371006 0.2790999547279261]\n",
      " [0.33333333333333326 0.0 0.4118128764247313 0.1921681378082239]\n",
      " [0.33333333333333326 1.0 0.3123546274282636 0.7223244181035751]\n",
      " [0.33333333333333326 0.0 0.03852869643982926 0.21062371505263974]\n",
      " [0.33333333333333326 0.0 0.15246516958270506 0.1752057038069815]\n",
      " [0.33333333333333326 1.0 0.05401498204807087 0.1841316018364573]\n",
      " [0.16666666666666652 0.0 0.13929354978117603 0.44201682070611625]\n",
      " [0.33333333333333326 1.0 0.00947498131008917 0.03000083245987663]\n",
      " [0.9999999999999998 1.0 0.018769567857414682 0.3673465146558542]\n",
      " [0.33333333333333326 1.0 0.03150034577886185 0.1905060228518525]\n",
      " [0.33333333333333326 0.0 0.03139042776326173 0.2987215209151077]\n",
      " [0.6666666666666665 0.0 0.010719835227601227 0.6390076757937198]\n",
      " [0.33333333333333326 1.0 0.08780108487068983 0.45571732243313606]\n",
      " [0.33333333333333326 0.0 0.14458990276984496 0.520565391251106]\n",
      " [0.6666666666666665 0.0 0.004884042353414664 0.34796593799140546]\n",
      " [0.33333333333333326 1.0 0.04129653821846446 0.1601497300294633]\n",
      " [0.33333333333333326 0.0 0.1341451791987951 0.6709069030818139]\n",
      " [0.6666666666666665 0.0 0.03462867663631286 0.2198858563897303]\n",
      " [0.33333333333333326 1.0 0.04598317501908289 0.2209680193863773]\n",
      " [0.0 0.0 0.010729371846619706 0.10564678154554305]\n",
      " [0.33333333333333326 1.0 0.20042271935440015 0.16605573887047034]\n",
      " [0.9999999999999998 1.0 0.013113197439724278 0.15137450554796553]\n",
      " [0.16666666666666652 0.0 0.14161272503527522 0.42464032973344634]\n",
      " [0.0 0.0 0.011150470745013408 0.14702308096296288]\n",
      " [0.0 0.0 0.6927425474831019 0.4308057154766524]\n",
      " [0.9999999999999998 1.0 0.015992805735896454 0.21257437484420777]\n",
      " [0.0 0.0 0.03539434876031322 0.18422406982551334]\n",
      " [0.33333333333333326 0.0 0.0728474391616869 0.5281054896016838]\n",
      " [0.6666666666666665 0.0 0.0072050996684343005 0.17768610633310386]\n",
      " [0.16666666666666652 0.0 0.06063488458757149 0.1142952662253935]\n",
      " [0.6666666666666665 0.0 0.28473142482899894 0.2496129966284157]\n",
      " [0.33333333333333326 0.0 0.07869388908023778 0.282837306550419]\n",
      " [0.33333333333333326 0.0 0.09843798136645887 0.5831338194121849]\n",
      " [0.33333333333333326 0.0 0.05585657001268984 0.5543826121910522]\n",
      " [0.33333333333333326 1.0 0.034969863632234865 0.2613803146390759]\n",
      " [0.16666666666666652 1.0 0.027105598991077784 0.10246956385431816]\n",
      " [0.33333333333333326 0.0 0.00040745028959054963 0.0]\n",
      " [0.33333333333333326 0.0 0.022629028516601757 0.151048159305747]\n",
      " [0.33333333333333326 0.0 0.02859047317645169 0.22590002060808137]\n",
      " [0.9999999999999998 1.0 0.04253108574878839 0.24238281757300548]\n",
      " [0.0 0.0 0.12469466518368044 0.20693739845514564]\n",
      " [0.6666666666666665 0.0 0.11613916746856212 0.37127904305301135]\n",
      " [0.33333333333333326 0.0 0.12533593225830275 0.27708356904459325]\n",
      " [0.0 0.0 0.21919520208889676 0.3154853722860074]\n",
      " [0.0 0.0 0.13544336388166078 0.20815504532361223]\n",
      " [0.6666666666666665 0.0 0.310968535235987 0.34332719457308686]\n",
      " [0.33333333333333326 0.0 0.008306515822020355 0.16297069482011609]\n",
      " [0.33333333333333326 0.0 0.031843755737352986 0.23004189810541864]\n",
      " [0.33333333333333326 0.0 0.13456295731782753 0.3473026764762765]\n",
      " [0.33333333333333326 0.0 0.08131219371175868 0.247118977336976]\n",
      " [0.33333333333333326 0.0 0.3685430193450836 0.2888295086494972]\n",
      " [0.33333333333333326 0.0 0.254635928883594 0.14231805653040513]\n",
      " [0.33333333333333326 0.0 0.28571408534910114 0.7654800050680735]\n",
      " [0.33333333333333326 0.0 0.007418021913326633 0.10192338979938236]\n",
      " [0.33333333333333326 0.0 0.0790474823251901 0.26047347347863475]\n",
      " [0.0 1.0 0.2639185839838052 0.27523304968536366]\n",
      " [0.0 0.0 0.11164815379686965 0.4034356293418762]\n",
      " [0.16666666666666652 0.0 0.12550563625762878 0.30273050765882886]\n",
      " [0.16666666666666652 1.0 0.18112839102019285 0.2637878844824213]\n",
      " [0.9999999999999998 1.0 0.004827501371088783 0.308251270272861]]\n"
     ]
    }
   ],
   "source": [
    "dfnodes=dfre.to_numpy()\n",
    "dfnodes=dfnodes[:,2:6]\n",
    "dfnodes.shape\n",
    "print (dfnodes)"
   ]
  },
  {
   "cell_type": "code",
   "execution_count": 35,
   "id": "faa5dad9",
   "metadata": {},
   "outputs": [],
   "source": [
    "#now we have four features of nodes for graph, that's save it to npy file so no need to process every time\n",
    "save('trainingData/nodefeatures.npy', dfnodes)"
   ]
  },
  {
   "cell_type": "code",
   "execution_count": 6,
   "id": "5f627996",
   "metadata": {},
   "outputs": [
    {
     "name": "stdout",
     "output_type": "stream",
     "text": [
      "[[0.8333333333333333 1.0 0.007756406427215978 0.32105720730318105]\n",
      " [0.8333333333333333 1.0 0.0 0.5110078216472885]\n",
      " [0.33333333333333326 1.0 0.15729063345091676 0.20331914034318951]\n",
      " [0.33333333333333326 0.0 0.06704299737279173 0.5012068659083802]\n",
      " [0.16666666666666652 0.0 0.04616844407662413 0.39486834356477685]]\n"
     ]
    }
   ],
   "source": [
    "# load array\n",
    "nodesdata = load('trainingData/nodefeatures.npy', allow_pickle=True)\n",
    "print (nodesdata[:5,:])"
   ]
  },
  {
   "cell_type": "code",
   "execution_count": null,
   "id": "7530527a",
   "metadata": {},
   "outputs": [],
   "source": []
  },
  {
   "cell_type": "code",
   "execution_count": 7,
   "id": "ff64c0c0",
   "metadata": {},
   "outputs": [],
   "source": [
    "#time period to contruct time series data\n",
    "begin=datetime.strptime('2018-03-18 00:00:00','%Y-%m-%d %H:%M:%S')\n",
    "end  =datetime.strptime('2021-03-30 00:00:00','%Y-%m-%d %H:%M:%S')"
   ]
  },
  {
   "cell_type": "code",
   "execution_count": 8,
   "id": "cd56e000",
   "metadata": {},
   "outputs": [
    {
     "data": {
      "text/plain": [
       "1109"
      ]
     },
     "execution_count": 8,
     "metadata": {},
     "output_type": "execute_result"
    }
   ],
   "source": [
    "def return_time_index(time_stamp, start, end):\n",
    "    if time_stamp<start or time_stamp > end:\n",
    "        return -1\n",
    "    index =int((time_stamp-start).days)\n",
    "    return index\n",
    "diff=int((end-begin).days)+1\n",
    "diff"
   ]
  },
  {
   "cell_type": "code",
   "execution_count": 9,
   "id": "2d2e1fdb",
   "metadata": {},
   "outputs": [
    {
     "data": {
      "text/plain": [
       "(245, 6)"
      ]
     },
     "execution_count": 9,
     "metadata": {},
     "output_type": "execute_result"
    }
   ],
   "source": [
    "new_nodesdata = np.pad(nodesdata, ((0, 0), (0, 2)), mode='constant')#pad two new column with o for DOW and accidents\n",
    "new_nodesdata.shape"
   ]
  },
  {
   "cell_type": "code",
   "execution_count": 55,
   "id": "1fd8c543",
   "metadata": {},
   "outputs": [
    {
     "name": "stdout",
     "output_type": "stream",
     "text": [
      "[[0.8333333333333333 1.0 0.007756406427215978 0.32105720730318105 1 0]\n",
      " [0.8333333333333333 1.0 0.0 0.5110078216472885 1 0]\n",
      " [0.33333333333333326 1.0 0.15729063345091676 0.20331914034318951 1 0]\n",
      " [0.33333333333333326 0.0 0.06704299737279173 0.5012068659083802 1 0]\n",
      " [0.16666666666666652 0.0 0.04616844407662413 0.39486834356477685 1 0]]\n"
     ]
    }
   ],
   "source": [
    "print (new_nodesdata[:5,:])"
   ]
  },
  {
   "cell_type": "code",
   "execution_count": 12,
   "id": "f96006eb",
   "metadata": {},
   "outputs": [],
   "source": [
    "#generate graph road matrix (1109x245x6) 1109 time series 245 nodes 6 node features\n",
    "graphMatrix=np.zeros((diff,nodesdata.shape[0],6))"
   ]
  },
  {
   "cell_type": "code",
   "execution_count": 54,
   "id": "7116c331",
   "metadata": {},
   "outputs": [
    {
     "data": {
      "text/plain": [
       "(1109, 245, 6)"
      ]
     },
     "execution_count": 54,
     "metadata": {},
     "output_type": "execute_result"
    }
   ],
   "source": [
    "graphMatrix.shape"
   ]
  },
  {
   "cell_type": "code",
   "execution_count": 14,
   "id": "a31bf418",
   "metadata": {},
   "outputs": [
    {
     "name": "stdout",
     "output_type": "stream",
     "text": [
      "Creating list of dates starting from 2018-03-18 00:00:00 to 2021-03-30 00:00:00\n",
      "1109\n"
     ]
    }
   ],
   "source": [
    "# start date\n",
    "# difference between each date. D means one day\n",
    "D = 'D'\n",
    "\n",
    "date_list = pd.date_range(begin, end, freq=D)\n",
    "print(f\"Creating list of dates starting from {begin} to {end}\")\n",
    "print(len(date_list))\n",
    "\n",
    "# if you want dates in string format then convert it into string\n",
    "#print(date_list.strftime(\"%Y-%m-%d\"))"
   ]
  },
  {
   "cell_type": "code",
   "execution_count": 15,
   "id": "3ca7fa7f",
   "metadata": {},
   "outputs": [],
   "source": [
    "#add weekday of the crash\n",
    "def week_day_d(DOW):\n",
    "        if DOW.weekday() < 5:\n",
    "            return 1\n",
    "        else:\n",
    "            return 0"
   ]
  },
  {
   "cell_type": "code",
   "execution_count": 28,
   "id": "402dc5f3",
   "metadata": {},
   "outputs": [],
   "source": [
    "dowmapping= [week_day_d(d) for d in date_list]"
   ]
  },
  {
   "cell_type": "code",
   "execution_count": 31,
   "id": "53fa4825",
   "metadata": {},
   "outputs": [
    {
     "data": {
      "text/plain": [
       "1"
      ]
     },
     "execution_count": 31,
     "metadata": {},
     "output_type": "execute_result"
    }
   ],
   "source": [
    "dowmapping[1]"
   ]
  },
  {
   "cell_type": "code",
   "execution_count": 45,
   "id": "8ae2ed1b",
   "metadata": {},
   "outputs": [],
   "source": [
    "#assign the dow column as dow (1 or 0 ) \n",
    "new_nodesdata[:,-2]=dowmapping[1]"
   ]
  },
  {
   "cell_type": "code",
   "execution_count": 46,
   "id": "7d6cd24b",
   "metadata": {},
   "outputs": [
    {
     "name": "stdout",
     "output_type": "stream",
     "text": [
      "[0.8333333333333333 1.0 0.007756406427215978 0.32105720730318105 1 0]\n"
     ]
    }
   ],
   "source": [
    "print (new_nodesdata[0]) # it is correct"
   ]
  },
  {
   "cell_type": "code",
   "execution_count": 40,
   "id": "a30204d3",
   "metadata": {},
   "outputs": [],
   "source": [
    "#fill each node into the time sequence\n",
    "for idate in range(diff):\n",
    "    new_nodesdata[:,-2]=dowmapping[idate]#this assgin all dow for that date index\n",
    "    graphMatrix[idate,:]=new_nodesdata"
   ]
  },
  {
   "cell_type": "code",
   "execution_count": 49,
   "id": "f59eca86",
   "metadata": {},
   "outputs": [
    {
     "data": {
      "text/plain": [
       "array([0.83333333, 1.        , 0.        , 0.51100782, 1.        ,\n",
       "       0.        ])"
      ]
     },
     "execution_count": 49,
     "metadata": {},
     "output_type": "execute_result"
    }
   ],
   "source": [
    "graphMatrix[10,1]"
   ]
  },
  {
   "cell_type": "code",
   "execution_count": 51,
   "id": "25644e2b",
   "metadata": {},
   "outputs": [
    {
     "data": {
      "text/plain": [
       "2"
      ]
     },
     "execution_count": 51,
     "metadata": {},
     "output_type": "execute_result"
    }
   ],
   "source": [
    "dftestindex=parser.parse('2018-03-20 23:10:00.000001')\n",
    "idx=return_time_index(dftestindex, begin, end)\n",
    "idx"
   ]
  },
  {
   "cell_type": "code",
   "execution_count": 87,
   "id": "24f2b24d",
   "metadata": {},
   "outputs": [],
   "source": [
    "#Now let's create graph dataset (1109,245,6) by dropping the accidents to each node\n",
    "xData=graphMatrix.copy()\n",
    "accident=np.zeros((diff,245))\n",
    "y=np.zeros((diff,245))\n",
    "for ix in range(crashdata.shape[0]):\n",
    "    dftestindex=parser.parse(crashdata[ix][0]) #crashdata[0] is the accidentdate column\n",
    "    idx=return_time_index(dftestindex, begin, end)\n",
    "    dfcrashlist=[]\n",
    "    if idx>=0:\n",
    "        nodeidx=nodemapping[crashdata[ix][2]]\n",
    "        accident[idx][nodeidx]=accident[idx][nodeidx]+1\n",
    "        dfcrashlist=[accident[idx][nodeidx]]\n",
    "        vectorcrash=np.asarray(dfcrashlist)\n",
    "        vector=graphMatrix[idx][nodeidx][0:5]\n",
    "        vector =np.concatenate((vector,vectorcrash),axis=None)\n",
    "        xData[idx][nodeidx]=vector\n",
    "        y[idx][nodeidx]=accident[idx][nodeidx]\n",
    "       # print (dftestindex,gridx,  testData[idx][gridx])   \n",
    "#print (\"done\", xData[0,0])"
   ]
  },
  {
   "cell_type": "code",
   "execution_count": 65,
   "id": "74b8491f",
   "metadata": {},
   "outputs": [
    {
     "data": {
      "text/plain": [
       "78"
      ]
     },
     "execution_count": 65,
     "metadata": {},
     "output_type": "execute_result"
    }
   ],
   "source": [
    "crashdata[0][2]"
   ]
  },
  {
   "cell_type": "code",
   "execution_count": 88,
   "id": "91b3b138",
   "metadata": {},
   "outputs": [
    {
     "name": "stdout",
     "output_type": "stream",
     "text": [
      "done [0.83333333 1.         0.00775641 0.32105721 1.         1.        ]\n"
     ]
    }
   ],
   "source": [
    "print (\"done\", xData[1,0])"
   ]
  },
  {
   "cell_type": "code",
   "execution_count": 99,
   "id": "b2c0f1e3",
   "metadata": {},
   "outputs": [],
   "source": [
    "save('trainingData/xdata.npy', xData)"
   ]
  },
  {
   "cell_type": "code",
   "execution_count": 101,
   "id": "3f6e9609",
   "metadata": {},
   "outputs": [],
   "source": [
    "gdata = load('trainingData/xdata.npy', allow_pickle=True)"
   ]
  },
  {
   "cell_type": "code",
   "execution_count": 102,
   "id": "97a241a6",
   "metadata": {},
   "outputs": [
    {
     "name": "stdout",
     "output_type": "stream",
     "text": [
      "[0.83333333 1.         0.00775641 0.32105721 1.         1.        ]\n"
     ]
    }
   ],
   "source": [
    "print (gdata[1,0])"
   ]
  }
 ],
 "metadata": {
  "kernelspec": {
   "display_name": "Python 3",
   "language": "python",
   "name": "python3"
  },
  "language_info": {
   "codemirror_mode": {
    "name": "ipython",
    "version": 3
   },
   "file_extension": ".py",
   "mimetype": "text/x-python",
   "name": "python",
   "nbconvert_exporter": "python",
   "pygments_lexer": "ipython3",
   "version": "3.9.11"
  }
 },
 "nbformat": 4,
 "nbformat_minor": 5
}
