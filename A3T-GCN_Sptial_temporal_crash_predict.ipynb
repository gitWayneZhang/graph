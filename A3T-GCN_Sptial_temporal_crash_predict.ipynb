{
 "cells": [
  {
   "cell_type": "code",
   "execution_count": null,
   "id": "f7c971c2",
   "metadata": {},
   "outputs": [],
   "source": [
    "#   # Node Features\n",
    "#             values_x = []\n",
    "#             for n in params.lookback_pattern:\n",
    "#                 m = i + params.lookback_pattern[0] - n\n",
    "#                 values_x.append(np.asarray([np.asarray([d.iloc[m, j+1] for d in dfs], dtype='float64') for j in range(len(nations))], dtype='float64'))\n",
    "#             values_x = np.asarray(values_x)\n",
    "#             x = torch_def.FloatTensor(values_x)\n",
    "#             # x = x[node_mask, :]\n",
    "\n",
    "#             # Labels\n",
    "#             values_y = df.iloc[(i + params.lookback_pattern[0]):(i + params.lookback_pattern[0] + 1), 1:].to_numpy().T\n",
    "#             y = torch_def.FloatTensor(values_y)\n",
    "#             # y = y[node_mask, :]\n",
    "\n",
    "#             # Edge Index\n",
    "#             edge_index = torch_def.LongTensor([source_nodes.copy(), target_nodes.copy()])\n",
    "#             # edge_index = edge_index[:, temp_edge_mask]\n",
    "#             # Edge Weights\n",
    "#             edge_attr = torch_def.FloatTensor(edge_attrs)\n",
    "#             edge_attr = edge_attr / torch.mean(edge_attr)\n",
    "#             # edge_attr = edge_attr[temp_edge_mask, :]\n",
    "\n",
    "#             data = Data(x=x, edge_index=edge_index, y=y, edge_attr=edge_attr)\n",
    "#             data_list.append(data)\n",
    "#         data, slices = self.collate(data_list)\n",
    "#         torch.save((data, slices), self.processed_paths[0])"
   ]
  },
  {
   "cell_type": "code",
   "execution_count": null,
   "id": "6abb77eb",
   "metadata": {},
   "outputs": [],
   "source": [
    "# def get_dataset(\n",
    "#         self, num_timesteps_in: int = 12, num_timesteps_out: int = 12\n",
    "#     ) -> StaticGraphTemporalSignal:\n",
    "#         \"\"\"Returns data iterator for METR-LA dataset as an instance of the\n",
    "#         static graph temporal signal class.\n",
    "\n",
    "#         Return types:\n",
    "#             * **dataset** *(StaticGraphTemporalSignal)* - The METR-LA traffic\n",
    "#                 forecasting dataset.\n",
    "#         \"\"\"\n",
    "#         self._get_edges_and_weights()\n",
    "#         self._generate_task(num_timesteps_in, num_timesteps_out)\n",
    "#         dataset = StaticGraphTemporalSignal(\n",
    "#             self.edges, self.edge_weights, self.features, self.targets\n",
    "#         )\n",
    "\n",
    "#         return dataset\n"
   ]
  },
  {
   "cell_type": "code",
   "execution_count": null,
   "id": "959b2c89",
   "metadata": {},
   "outputs": [],
   "source": [
    "#!pip install -U matplotlib\n",
    "#!pip install pandas",
    "#the following codes from https://github.com/benedekrozemberczki/pytorch_geometric_temporal"
   ]
  },
  {
   "cell_type": "code",
   "execution_count": 1,
   "id": "2f3bf1ee",
   "metadata": {},
   "outputs": [],
   "source": [
    "#!pip install torch-geometric-temporal --user"
   ]
  },
  {
   "cell_type": "code",
   "execution_count": 19,
   "id": "08b840e3",
   "metadata": {},
   "outputs": [],
   "source": [
    "#!pip install torch_geometric"
   ]
  },
  {
   "cell_type": "code",
   "execution_count": 18,
   "id": "1d64d273",
   "metadata": {},
   "outputs": [],
   "source": [
    "#!pip install torch_scatter torch_sparse torch_cluster torch_spline_conv -f https://data.pyg.org/whl/torch-1.13.0+cpu.html"
   ]
  },
  {
   "cell_type": "code",
   "execution_count": 16,
   "id": "f553eaaa",
   "metadata": {},
   "outputs": [],
   "source": [
    "#!pip install torch-geometric-temporal --user"
   ]
  },
  {
   "cell_type": "code",
   "execution_count": 1,
   "id": "d7b84cd3",
   "metadata": {},
   "outputs": [],
   "source": [
    "import torch\n",
    "torch.cuda.is_available = lambda : False\n",
    "DEVICE = torch.device('cuda' if torch.cuda.is_available() else 'cpu')\n",
    "shuffle=True\n",
    "batch_size = 32"
   ]
  },
  {
   "cell_type": "code",
   "execution_count": 2,
   "id": "325be793",
   "metadata": {},
   "outputs": [
    {
     "name": "stdout",
     "output_type": "stream",
     "text": [
      "1.13.0\n"
     ]
    }
   ],
   "source": [
    "!python -c \"import torch; print(torch.__version__)\""
   ]
  },
  {
   "cell_type": "code",
   "execution_count": 3,
   "id": "ce86ae45",
   "metadata": {},
   "outputs": [],
   "source": [
    "import os\n",
    "import numpy as np\n",
    "import pandas as pd\n",
    "import matplotlib.pyplot as plt\n",
    "from numpy import load\n",
    "from numpy import save\n",
    "from torch_geometric.data import InMemoryDataset, Data, DataLoader\n",
    "\n",
    "#import seaborn as sns\n",
    "#import networkx as nx\n",
    "\n",
    "import torch.nn.functional as F\n",
    "from torch_geometric.nn import GCNConv\n",
    "from torch_geometric_temporal.nn.recurrent import A3TGCN2\n",
    "from torch_geometric_temporal.signal import temporal_signal_split,StaticGraphTemporalSignal\n",
    "##from torch_geometric.utils import dense_to_sparse"
   ]
  },
  {
   "cell_type": "markdown",
   "id": "9885f824",
   "metadata": {},
   "source": [
    "A3T-GCN: Attention Temporal Graph Convolutional Network for Traffic Forecasting\n",
    "Dataset\n",
    "  (1109) days of crash dataset from 2018-2020\n",
    "  245 nodes from edges of Cobb major Road\n",
    "  6 road features used for the analysis (Lane type, length, curve, speed, DOW-day of the week, accidents happened)\n",
    "  7 days time window for time series "
   ]
  },
  {
   "cell_type": "code",
   "execution_count": 16,
   "id": "311d5c1f",
   "metadata": {},
   "outputs": [],
   "source": [
    "class CobbCrashDatasetLoader(object):\n",
    "    \"\"\"crash data set for 3 years on Cobb county major roads\n",
    "       from March 2018 - March 2020. Data source from Cobb DOT.\n",
    "    \"\"\"\n",
    "    def __init__(self, data_dir=os.path.join(os.getcwd(), \"trainingData\")):\n",
    "        super(CobbCrashDatasetLoader, self).__init__()\n",
    "        self.data_dir = data_dir\n",
    "        self._read_stored_data()\n",
    "    def _read_stored_data(self):\n",
    "           # Check stored data whether in the training data folder\n",
    "            if not os.path.isfile(\n",
    "                os.path.join('trainingData', \"edgeindex.npy\")\n",
    "            ):  # pragma: no cover\n",
    "                print (\"edgeindex.npy cannot be found\")\n",
    "                return \n",
    "            if not os.path.isfile(\n",
    "                os.path.join(self.data_dir, \"xdata.npy\")\n",
    "            ):  # pragma: no cover\n",
    "                print (\"node feature npy file cannot be found\")\n",
    "                return \n",
    "            A = np.load(os.path.join(self.data_dir, \"edgeindex.npy\"))\n",
    "            X = np.load(os.path.join(self.data_dir, \"xdata.npy\")).transpose(\n",
    "                (1, 2, 0)\n",
    "            )\n",
    "            X = X.astype(np.float32)\n",
    "\n",
    "            # Normalise \n",
    "            means = np.mean(X, axis=(0, 2))\n",
    "            X = X - means.reshape(1, -1, 1)\n",
    "            stds = np.std(X, axis=(0, 2))\n",
    "            X = X / stds.reshape(1, -1, 1)\n",
    "\n",
    "            self.A = torch.from_numpy(A)\n",
    "            self.X = torch.from_numpy(X)\n",
    "            \n",
    "    def _generate_task(self, num_timesteps_in: int = 7, num_timesteps_out: int = 7):\n",
    "            \"\"\"Uses the node features of the graph and generates a feature/target\n",
    "            relationship of the shape\n",
    "            (num_nodes, num_node_features, num_timesteps_in) -> (num_nodes, num_timesteps_out)\n",
    "            predicting the average traffic speed using num_timesteps_in to predict the\n",
    "            traffic conditions in the next num_timesteps_out\n",
    "\n",
    "            Args:\n",
    "                num_timesteps_in (int): number of timesteps the sequence model sees\n",
    "                num_timesteps_out (int): number of timesteps the sequence model has to predict\n",
    "            \"\"\"\n",
    "            indices = [\n",
    "                (i, i + (num_timesteps_in + num_timesteps_out))\n",
    "                for i in range(self.X.shape[2] - (num_timesteps_in + num_timesteps_out) + 1)\n",
    "            ]\n",
    "\n",
    "            # Generate observations\n",
    "            features, target = [], []\n",
    "            for i, j in indices:\n",
    "                features.append((self.X[:, :, i : i + num_timesteps_in]).numpy())\n",
    "                target.append((self.X[:, -1, i + num_timesteps_in : j]).numpy())\n",
    "\n",
    "            self.features = features\n",
    "            self.targets = target\n",
    "            \n",
    "    def _get_edges_and_weights(self):\n",
    "        edge_indices= self.A\n",
    "        #edge_indices = edge_indices.numpy()\n",
    "        values = np.ones(edge_indices.shape[1]).numpy()\n",
    "        self.edges = edge_indices\n",
    "        self.edge_weights = values\n",
    "\n",
    "    def get_dataset(\n",
    "            self, num_timesteps_in: int = 7, num_timesteps_out: int = 7\n",
    "        ) -> StaticGraphTemporalSignal:\n",
    "            \"\"\"Returns data iterator for METR-LA dataset as an instance of the\n",
    "            static graph temporal signal class.\n",
    "\n",
    "            Return types:\n",
    "                * **dataset** *(StaticGraphTemporalSignal)* - The METR-LA traffic\n",
    "                    forecasting dataset.\n",
    "            \"\"\"\n",
    "            self._get_edges_and_weights()\n",
    "            self._generate_task(num_timesteps_in, num_timesteps_out)\n",
    "            dataset = StaticGraphTemporalSignal(\n",
    "                self.edges, self.edge_weights, self.features, self.targets\n",
    "            )\n",
    "            return dataset"
   ]
  },
  {
   "cell_type": "code",
   "execution_count": null,
   "id": "f55d953b",
   "metadata": {},
   "outputs": [],
   "source": [
    "loader = CobbCrashDatasetLoader()\n",
    "dataset = loader.get_dataset(num_timesteps_in=7, num_timesteps_out=7)\n",
    "print(\"Dataset type:  \", dataset)\n",
    "print(\"Number of samples / sequences: \",  len(set(dataset)))\n",
    "print(next(iter(dataset))) # Show first sample"
   ]
  },
  {
   "cell_type": "code",
   "execution_count": 4,
   "id": "c82d5f14",
   "metadata": {},
   "outputs": [],
   "source": [
    "gdata = load('trainingData/xdata.npy', allow_pickle=True).transpose((1, 2, 0))\n",
    "gdata = gdata.astype(np.float32)"
   ]
  },
  {
   "cell_type": "code",
   "execution_count": 5,
   "id": "ab76c28a",
   "metadata": {},
   "outputs": [],
   "source": [
    "edgeindex = load('trainingData/edgeindex.npy')"
   ]
  },
  {
   "cell_type": "code",
   "execution_count": 6,
   "id": "f0698788",
   "metadata": {},
   "outputs": [
    {
     "data": {
      "text/plain": [
       "(2, 564)"
      ]
     },
     "execution_count": 6,
     "metadata": {},
     "output_type": "execute_result"
    }
   ],
   "source": [
    "edgeindex.shape"
   ]
  },
  {
   "cell_type": "code",
   "execution_count": 7,
   "id": "f61bdd46",
   "metadata": {},
   "outputs": [
    {
     "data": {
      "text/plain": [
       "(245, 6, 1109)"
      ]
     },
     "execution_count": 7,
     "metadata": {},
     "output_type": "execute_result"
    }
   ],
   "source": [
    "gdata.shape"
   ]
  },
  {
   "cell_type": "code",
   "execution_count": 8,
   "id": "c9e20cd4",
   "metadata": {},
   "outputs": [
    {
     "data": {
      "text/plain": [
       "1.0"
      ]
     },
     "execution_count": 8,
     "metadata": {},
     "output_type": "execute_result"
    }
   ],
   "source": [
    "gdata[0,-1,1] ## make sure the index and shape are good, node index=1 and the date index is 1 the accident has 1 on the edge"
   ]
  },
  {
   "cell_type": "code",
   "execution_count": 9,
   "id": "8121d1c2",
   "metadata": {},
   "outputs": [],
   "source": [
    "edgeindex = torch.from_numpy(edgeindex)\n",
    "gdata = torch.from_numpy(gdata)"
   ]
  },
  {
   "cell_type": "code",
   "execution_count": 10,
   "id": "ffcc6047",
   "metadata": {},
   "outputs": [],
   "source": [
    "def _generate_task(X,A, num_timesteps_in: int = 7, num_timesteps_out: int = 7):\n",
    "        \"\"\"Uses the node features of the graph and generates a feature/target\n",
    "        relationship of the shape\n",
    "        (num_nodes, num_node_features, num_timesteps_in) -> (num_nodes, num_timesteps_out)\n",
    "        predicting the crashes using num_timesteps_in to predict the\n",
    "        crashes in the next num_timesteps_out\n",
    "\n",
    "        Args:\n",
    "            num_timesteps_in (int): number of time window the sequence model sees\n",
    "            num_timesteps_out (int): number of time window the sequence model has to predict\n",
    "        \"\"\"\n",
    "        indices = [\n",
    "            (i, i + (7 + 7))\n",
    "            for i in range(X.shape[2] - (num_timesteps_in + num_timesteps_out) + 1)\n",
    "        ]\n",
    "            # Generate observations\n",
    "        features, target = [], []\n",
    "        for i, j in indices:\n",
    "            features.append((X[:, :, i : i + num_timesteps_in]).numpy())\n",
    "            target.append((X[:, -1, i + num_timesteps_in : j]).numpy())\n",
    "        features = features\n",
    "        targets = target\n",
    "        return features, targets"
   ]
  },
  {
   "cell_type": "code",
   "execution_count": 11,
   "id": "9b957364",
   "metadata": {},
   "outputs": [],
   "source": [
    "features, targets =_generate_task(gdata,edgeindex,7, 7)"
   ]
  },
  {
   "cell_type": "code",
   "execution_count": 12,
   "id": "f70b49de",
   "metadata": {},
   "outputs": [],
   "source": [
    "edges=edgeindex.numpy()\n",
    "edge_weights=np.ones(edges.shape[1])"
   ]
  },
  {
   "cell_type": "code",
   "execution_count": 13,
   "id": "f0e4e23e",
   "metadata": {},
   "outputs": [],
   "source": [
    "dataset = StaticGraphTemporalSignal(\n",
    "            edges, edge_weights, features, targets\n",
    "        )"
   ]
  },
  {
   "cell_type": "code",
   "execution_count": 14,
   "id": "8aca032a",
   "metadata": {},
   "outputs": [
    {
     "name": "stdout",
     "output_type": "stream",
     "text": [
      "Dataset type:   <torch_geometric_temporal.signal.static_graph_temporal_signal.StaticGraphTemporalSignal object at 0x000002576A4DAA70>\n",
      "Number of samples / sequences:  1096\n",
      "Data(x=[245, 6, 7], edge_index=[2, 564], edge_attr=[564], y=[245, 7])\n"
     ]
    }
   ],
   "source": [
    "print(\"Dataset type:  \", dataset)\n",
    "print(\"Number of samples / sequences: \",  dataset.snapshot_count)\n",
    "print(next(iter(dataset))) # Show first sample"
   ]
  },
  {
   "cell_type": "markdown",
   "id": "22e0c588",
   "metadata": {},
   "source": [
    "Data Sample\n",
    "\n",
    "245 nodes which are road center points\n",
    "\n",
    "6 features per node (Lane type, length, curve, speed, DOW-day of the week, accidents happened on the roads)\n",
    "\n",
    "7 day time window frame \n",
    "\n",
    "Labels for 7 day future time window (normalized accidents happened)\n",
    "edge attribute is road type - intersate is 1 and others is 0.5"
   ]
  },
  {
   "cell_type": "code",
   "execution_count": 15,
   "id": "b372fc3a",
   "metadata": {},
   "outputs": [
    {
     "data": {
      "text/plain": [
       "[<matplotlib.lines.Line2D at 0x2570b078100>]"
      ]
     },
     "execution_count": 15,
     "metadata": {},
     "output_type": "execute_result"
    },
    {
     "data": {
      "image/png": "[encoded data removed]",
      "text/plain": [
       "<Figure size 640x480 with 1 Axes>"
      ]
     },
     "metadata": {},
     "output_type": "display_data"
    }
   ],
   "source": [
    "# Visualize crashes over time\n",
    "road1 = 1\n",
    "days = 14\n",
    "crash_labels = [crash.y[road1][0].item() for crash in list(dataset)[:days]]\n",
    "plt.plot(crash_labels)\n"
   ]
  },
  {
   "cell_type": "markdown",
   "id": "5958ed86",
   "metadata": {},
   "source": [
    "## Test Train Split"
   ]
  },
  {
   "cell_type": "code",
   "execution_count": 18,
   "id": "471b74bf",
   "metadata": {},
   "outputs": [
    {
     "name": "stdout",
     "output_type": "stream",
     "text": [
      "Number of train buckets:  876\n",
      "Number of test buckets:  220\n"
     ]
    }
   ],
   "source": [
    "train_dataset, test_dataset = temporal_signal_split(dataset, train_ratio=0.8)\n",
    "\n",
    "print(\"Number of train buckets: \", train_dataset.snapshot_count)\n",
    "print(\"Number of test buckets: \", test_dataset.snapshot_count)"
   ]
  },
  {
   "cell_type": "markdown",
   "id": "ef19536a",
   "metadata": {},
   "source": [
    "## Creating DataLoaders"
   ]
  },
  {
   "cell_type": "code",
   "execution_count": 23,
   "id": "b426aa0e",
   "metadata": {},
   "outputs": [],
   "source": [
    "train_input = np.array(train_dataset.features) # (876, 245, 6, 7)\n",
    "train_target = np.array(train_dataset.targets) # (876, 245, 7)\n",
    "train_x_tensor = torch.from_numpy(train_input).type(torch.FloatTensor).to(DEVICE)  # (B, N, F, T)\n",
    "train_target_tensor = torch.from_numpy(train_target).type(torch.FloatTensor).to(DEVICE)  # (B, N, T)\n",
    "train_dataset_new = torch.utils.data.TensorDataset(train_x_tensor, train_target_tensor)\n",
    "train_loader = torch.utils.data.DataLoader(train_dataset_new, batch_size=batch_size, shuffle=shuffle,drop_last=True)"
   ]
  },
  {
   "cell_type": "code",
   "execution_count": 24,
   "id": "e298c3bd",
   "metadata": {},
   "outputs": [],
   "source": [
    "test_input = np.array(test_dataset.features) # (, 245, 6, 7)\n",
    "test_target = np.array(test_dataset.targets) # (, 245, 7)\n",
    "test_x_tensor = torch.from_numpy(test_input).type(torch.FloatTensor).to(DEVICE)  # (B, N, F, T) (batch, node,feature, time window)\n",
    "test_target_tensor = torch.from_numpy(test_target).type(torch.FloatTensor).to(DEVICE)  # (B, N, T)\n",
    "test_dataset_new = torch.utils.data.TensorDataset(test_x_tensor, test_target_tensor)\n",
    "test_loader = torch.utils.data.DataLoader(test_dataset_new, batch_size=batch_size, shuffle=shuffle,drop_last=True)"
   ]
  },
  {
   "cell_type": "markdown",
   "id": "99ae3a27",
   "metadata": {},
   "source": [
    "## Model"
   ]
  },
  {
   "attachments": {
    "model.png": {
     "image/png": "[encoded data removed]"
    }
   },
   "cell_type": "markdown",
   "id": "e024c8b7",
   "metadata": {},
   "source": [
    "Which model to choose depends on which time-series task you work on.\n",
    "\n",
    "A3TGCN is an extension of TGCN that uses attention\n",
    "The spatial aggregation uses GCN, the temporal aggregation a GRU\n",
    "We can pass in periods to get an embedding for several timesteps\n",
    "This embedding can be used to predict several steps into the future = output dimension\n",
    "We could also do this in a loop and feed it again into the model (would be autoregressive)\n",
    "There is only one block here. Other layers also allow stacking???\n",
    "![model.png](attachment:model.png)"
   ]
  },
  {
   "cell_type": "markdown",
   "id": "05ccd06d",
   "metadata": {},
   "source": [
    "## TGCN model"
   ]
  },
  {
   "cell_type": "markdown",
   "id": "304cb312",
   "metadata": {},
   "source": [
    "A temporal GCN (T-GCN) model was constructed by combining GCN and GRU.\n",
    "\n",
    "n historical time series traffic data were inputted into the T-GCN model to obtain n hidden states (h) that covered spatiotemporal characteristics:{h(t−n), · · · , h(t−1), h(t)}\n",
    "\n",
    "ut = σ(Wu ∗ (GC(A, Xt), ht−1))\n",
    "\n",
    "rt = σ(Wr ∗ (GC(A, Xt), ht−1))\n",
    "\n",
    "ct = tanh(Wc ∗ (GC(A, Xt), (rt ∗ ht−1)))\n",
    "\n",
    "ht = ut ∗ ht−1 + (1 − ut) ∗ ct)\n",
    "\n",
    "Then, the hidden states were inputted into the attention model to determine the context vector that covers the global crash variation info. Particularly, the weight of each h was calculated by Softmax using a multilayer perception:{at−n, · · · , at−1, at}.The context vector that covers global crash variation information is calculated by the weighted sum."
   ]
  },
  {
   "cell_type": "markdown",
   "id": "0ffe4b15",
   "metadata": {},
   "source": [
    "## A3TGCN Model"
   ]
  },
  {
   "cell_type": "markdown",
   "id": "0a4e223f",
   "metadata": {},
   "source": [
    "The A3TGCN is an extention of the TGCN model by adding an attention mechanism.\n",
    "\n",
    "The attention mechanism was introduced to re-weight the influence of historical crash states and thus to capture the global variation trends of crash state on the road"
   ]
  },
  {
   "cell_type": "code",
   "execution_count": 25,
   "id": "8ef9fff8",
   "metadata": {},
   "outputs": [
    {
     "data": {
      "text/plain": [
       "TemporalGNN(\n",
       "  (tgnn): A3TGCN2(\n",
       "    (_base_tgcn): TGCN2(\n",
       "      (conv_z): GCNConv(6, 32)\n",
       "      (linear_z): Linear(in_features=64, out_features=32, bias=True)\n",
       "      (conv_r): GCNConv(6, 32)\n",
       "      (linear_r): Linear(in_features=64, out_features=32, bias=True)\n",
       "      (conv_h): GCNConv(6, 32)\n",
       "      (linear_h): Linear(in_features=64, out_features=32, bias=True)\n",
       "    )\n",
       "  )\n",
       "  (linear): Linear(in_features=32, out_features=7, bias=True)\n",
       ")"
      ]
     },
     "execution_count": 25,
     "metadata": {},
     "output_type": "execute_result"
    }
   ],
   "source": [
    "class TemporalGNN(torch.nn.Module):\n",
    "    def __init__(self, node_features, periods, batch_size):\n",
    "        super(TemporalGNN, self).__init__()\n",
    "        # Attention Temporal Graph Convolutional Cell\n",
    "        self.tgnn = A3TGCN2(in_channels=node_features,  out_channels=32, periods=periods,batch_size=batch_size) # node_features=2, periods=12\n",
    "        # Equals single-shot prediction\n",
    "        self.linear = torch.nn.Linear(32, periods)\n",
    "\n",
    "    def forward(self, x, edge_index):\n",
    "        \"\"\"\n",
    "        x = Node features for T time steps\n",
    "        edge_index = Graph edge indices\n",
    "        \"\"\"\n",
    "        h = self.tgnn(x, edge_index) # x [b, 245, 6, 7]  returns h [b, 245, 7]\n",
    "        h = F.relu(h) \n",
    "        h = self.linear(h)\n",
    "        return h\n",
    "\n",
    "TemporalGNN(node_features=6, periods=7, batch_size=2)"
   ]
  },
  {
   "cell_type": "markdown",
   "id": "297bc5fc",
   "metadata": {},
   "source": [
    "## Training"
   ]
  },
  {
   "cell_type": "code",
   "execution_count": 26,
   "id": "05672495",
   "metadata": {},
   "outputs": [
    {
     "name": "stdout",
     "output_type": "stream",
     "text": [
      "Net's state_dict:\n",
      "tgnn._attention \t torch.Size([7])\n",
      "tgnn._base_tgcn.conv_z.bias \t torch.Size([32])\n",
      "tgnn._base_tgcn.conv_z.lin.weight \t torch.Size([32, 6])\n",
      "tgnn._base_tgcn.linear_z.weight \t torch.Size([32, 64])\n",
      "tgnn._base_tgcn.linear_z.bias \t torch.Size([32])\n",
      "tgnn._base_tgcn.conv_r.bias \t torch.Size([32])\n",
      "tgnn._base_tgcn.conv_r.lin.weight \t torch.Size([32, 6])\n",
      "tgnn._base_tgcn.linear_r.weight \t torch.Size([32, 64])\n",
      "tgnn._base_tgcn.linear_r.bias \t torch.Size([32])\n",
      "tgnn._base_tgcn.conv_h.bias \t torch.Size([32])\n",
      "tgnn._base_tgcn.conv_h.lin.weight \t torch.Size([32, 6])\n",
      "tgnn._base_tgcn.linear_h.weight \t torch.Size([32, 64])\n",
      "tgnn._base_tgcn.linear_h.bias \t torch.Size([32])\n",
      "linear.weight \t torch.Size([7, 32])\n",
      "linear.bias \t torch.Size([7])\n",
      "Net's total params: 7150\n",
      "Optimizer's state_dict:\n",
      "state \t {}\n",
      "param_groups \t [{'lr': 0.001, 'betas': (0.9, 0.999), 'eps': 1e-08, 'weight_decay': 0, 'amsgrad': False, 'maximize': False, 'foreach': None, 'capturable': False, 'differentiable': False, 'fused': False, 'params': [0, 1, 2, 3, 4, 5, 6, 7, 8, 9, 10, 11, 12, 13, 14]}]\n"
     ]
    }
   ],
   "source": [
    "# Create model and optimizers\n",
    "model = TemporalGNN(node_features=6, periods=7, batch_size=batch_size).to(DEVICE)\n",
    "optimizer = torch.optim.Adam(model.parameters(), lr=0.001)\n",
    "loss_fn = torch.nn.MSELoss()\n",
    "\n",
    "\n",
    "print('Net\\'s state_dict:')\n",
    "total_param = 0\n",
    "for param_tensor in model.state_dict():\n",
    "    print(param_tensor, '\\t', model.state_dict()[param_tensor].size())\n",
    "    total_param += np.prod(model.state_dict()[param_tensor].size())\n",
    "print('Net\\'s total params:', total_param)\n",
    "#--------------------------------------------------\n",
    "print('Optimizer\\'s state_dict:')\n",
    "for var_name in optimizer.state_dict():\n",
    "    print(var_name, '\\t', optimizer.state_dict()[var_name])"
   ]
  },
  {
   "cell_type": "markdown",
   "id": "391356b2",
   "metadata": {},
   "source": [
    "## Loading the graph once"
   ]
  },
  {
   "cell_type": "code",
   "execution_count": 27,
   "id": "5145681f",
   "metadata": {},
   "outputs": [],
   "source": [
    "for snapshot in train_dataset:\n",
    "    static_edge_index = snapshot.edge_index.to(DEVICE)\n",
    "    break;"
   ]
  },
  {
   "cell_type": "code",
   "execution_count": 29,
   "id": "7250c0ec",
   "metadata": {},
   "outputs": [
    {
     "name": "stdout",
     "output_type": "stream",
     "text": [
      "0.3160355508327484\n",
      "0.3131617233157158\n",
      "Epoch 0 train RMSE: 0.3124\n"
     ]
    }
   ],
   "source": [
    "model.train()\n",
    "\n",
    "for epoch in range(1):\n",
    "    step = 0\n",
    "    loss_list = []\n",
    "    for encoder_inputs, labels in train_loader:\n",
    "        y_hat = model(encoder_inputs, static_edge_index)         # Get model predictions\n",
    "        loss = loss_fn(y_hat, labels) # Mean squared error #loss = torch.mean((y_hat-labels)**2)  sqrt to change it to rmse\n",
    "        loss.backward()\n",
    "        optimizer.step()\n",
    "        optimizer.zero_grad()\n",
    "        step= step+ 1\n",
    "        loss_list.append(loss.item())\n",
    "        if step % 10 == 0 :\n",
    "            print(sum(loss_list)/len(loss_list))\n",
    "    print(\"Epoch {} train RMSE: {:.4f}\".format(epoch, sum(loss_list)/len(loss_list)))"
   ]
  },
  {
   "cell_type": "markdown",
   "id": "f61638af",
   "metadata": {},
   "source": [
    "## Evaluation"
   ]
  },
  {
   "cell_type": "code",
   "execution_count": null,
   "id": "dba951aa",
   "metadata": {},
   "outputs": [],
   "source": [
    "model.eval()\n",
    "step = 0\n",
    "# Store for analysis\n",
    "total_loss = []\n",
    "for encoder_inputs, labels in test_loader:\n",
    "    # Get model predictions\n",
    "    y_hat = model(encoder_inputs, static_edge_index)\n",
    "    # Mean squared error\n",
    "    loss = loss_fn(y_hat, labels)\n",
    "    total_loss.append(loss.item())\n",
    "    # Store for analysis below\n",
    "    #test_labels.append(labels)\n",
    "    #predictions.append(y_hat)  \n",
    "\n",
    "print(\"Test MSE: {:.4f}\".format(sum(total_loss)/len(total_loss)))"
   ]
  },
  {
   "cell_type": "markdown",
   "id": "f9dc1f38",
   "metadata": {},
   "source": [
    "### Visualization"
   ]
  },
  {
   "cell_type": "markdown",
   "id": "7502d284",
   "metadata": {},
   "source": [
    "-- The further away the point in time is, the worse the predictions get\n",
    "\n",
    "-- Predictions shape: [num_data_points, num_sensors, num_timesteps]"
   ]
  },
  {
   "cell_type": "code",
   "execution_count": null,
   "id": "caa18787",
   "metadata": {},
   "outputs": [],
   "source": [
    "road = 11\n",
    "timestep = 7 \n",
    "preds = np.asarray([pred[road][timestep].detach().cpu().numpy() for pred in y_hat])\n",
    "labs  = np.asarray([label[road][timestep].cpu().numpy() for label in labels])\n",
    "print(\"Data points:,\", preds.shape)"
   ]
  },
  {
   "cell_type": "code",
   "execution_count": null,
   "id": "aafcacc4",
   "metadata": {},
   "outputs": [],
   "source": [
    "plt.figure(figsize=(20,5))\n",
    "sns.lineplot(data=preds, label=\"pred\")\n",
    "sns.lineplot(data=labs, label=\"true\")"
   ]
  }
 ],
 "metadata": {
  "kernelspec": {
   "display_name": "Python 3",
   "language": "python",
   "name": "python3"
  },
  "language_info": {
   "codemirror_mode": {
    "name": "ipython",
    "version": 3
   },
   "file_extension": ".py",
   "mimetype": "text/x-python",
   "name": "python",
   "nbconvert_exporter": "python",
   "pygments_lexer": "ipython3",
   "version": "3.9.11"
  }
 },
 "nbformat": 4,
 "nbformat_minor": 5
}
